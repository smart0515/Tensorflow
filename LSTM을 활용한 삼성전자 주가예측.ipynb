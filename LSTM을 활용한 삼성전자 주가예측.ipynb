{
 "cells": [
  {
   "cell_type": "markdown",
   "metadata": {
    "id": "gHUAWFYdtVI8"
   },
   "source": [
    "# LSTM을 활용한 주가 예측 모델"
   ]
  },
  {
   "cell_type": "markdown",
   "metadata": {
    "id": "deHRcgaDtVI-"
   },
   "source": [
    "이번 튜토리얼 에서는 다음과 같은 **프로세스 파이프라인**으로 주가 예측을 진행합니다.\n",
    "\n",
    "- FinanceDataReader를 활용하여 주가 데이터 받아오기\n",
    "- TensorFlow Dataset 클래스를 활용하여 주가 데이터 구축\n",
    "- LSTM 을 활용한 주가 예측 모델 구축"
   ]
  },
  {
   "cell_type": "markdown",
   "metadata": {
    "id": "2SvDqvgftVI_"
   },
   "source": [
    "## 필요한 모듈 import"
   ]
  },
  {
   "cell_type": "code",
   "execution_count": 1,
   "metadata": {
    "ExecuteTime": {
     "end_time": "2023-02-24T05:56:58.230743Z",
     "start_time": "2023-02-24T05:56:57.083011Z"
    },
    "id": "LGvbNfA6tVI_"
   },
   "outputs": [],
   "source": [
    "import pandas as pd\n",
    "import numpy as np\n",
    "import matplotlib.pyplot as plt\n",
    "import seaborn as sns\n",
    "import warnings\n",
    "import os\n",
    "\n",
    "%matplotlib inline\n",
    "warnings.filterwarnings('ignore')\n",
    "\n",
    "plt.rcParams['font.family'] = 'NanumGothic'"
   ]
  },
  {
   "cell_type": "markdown",
   "metadata": {
    "id": "WmddQkUEtVJA"
   },
   "source": [
    "## 데이터 (FinanceDataReader)"
   ]
  },
  {
   "cell_type": "markdown",
   "metadata": {
    "id": "lQ-kr1xatVJA"
   },
   "source": [
    "**FinanceDataReader**는 주가 데이터를 편리하게 가져올 수 있는 파이썬 패키지입니다.\n",
    "\n",
    "- [GitHub Repo](https://github.com/FinanceData/FinanceDataReader)"
   ]
  },
  {
   "cell_type": "markdown",
   "metadata": {
    "id": "ez7qINbPtVJA"
   },
   "source": [
    "**FinanceDataReader**가 아직 설치 되지 않으신 분들은 아래의 주석을 해제한 후 명령어로 설치해 주시기 바랍니다."
   ]
  },
  {
   "cell_type": "code",
   "execution_count": 3,
   "metadata": {
    "ExecuteTime": {
     "end_time": "2023-02-24T05:57:15.680487Z",
     "start_time": "2023-02-24T05:57:15.669488Z"
    },
    "id": "-itxV5A_tVJA"
   },
   "outputs": [],
   "source": [
    "#!pip install finance-datareader"
   ]
  },
  {
   "cell_type": "code",
   "execution_count": 4,
   "metadata": {
    "ExecuteTime": {
     "end_time": "2023-02-24T05:57:17.026466Z",
     "start_time": "2023-02-24T05:57:16.827574Z"
    },
    "id": "syELozmOtVJB"
   },
   "outputs": [],
   "source": [
    "import FinanceDataReader as fdr"
   ]
  },
  {
   "cell_type": "code",
   "execution_count": 5,
   "metadata": {
    "ExecuteTime": {
     "end_time": "2023-02-24T05:57:18.471578Z",
     "start_time": "2023-02-24T05:57:18.365498Z"
    },
    "id": "QA8_JSsmtVJB"
   },
   "outputs": [],
   "source": [
    "# 삼성전자(005930) 전체 (1996-11-05 ~ 현재)\n",
    "samsung = fdr.DataReader('005930')"
   ]
  },
  {
   "cell_type": "code",
   "execution_count": 6,
   "metadata": {
    "ExecuteTime": {
     "end_time": "2023-02-24T05:57:25.702678Z",
     "start_time": "2023-02-24T05:57:25.691021Z"
    }
   },
   "outputs": [
    {
     "data": {
      "text/html": [
       "<div>\n",
       "<style scoped>\n",
       "    .dataframe tbody tr th:only-of-type {\n",
       "        vertical-align: middle;\n",
       "    }\n",
       "\n",
       "    .dataframe tbody tr th {\n",
       "        vertical-align: top;\n",
       "    }\n",
       "\n",
       "    .dataframe thead th {\n",
       "        text-align: right;\n",
       "    }\n",
       "</style>\n",
       "<table border=\"1\" class=\"dataframe\">\n",
       "  <thead>\n",
       "    <tr style=\"text-align: right;\">\n",
       "      <th></th>\n",
       "      <th>Open</th>\n",
       "      <th>High</th>\n",
       "      <th>Low</th>\n",
       "      <th>Close</th>\n",
       "      <th>Volume</th>\n",
       "      <th>Change</th>\n",
       "    </tr>\n",
       "    <tr>\n",
       "      <th>Date</th>\n",
       "      <th></th>\n",
       "      <th></th>\n",
       "      <th></th>\n",
       "      <th></th>\n",
       "      <th></th>\n",
       "      <th></th>\n",
       "    </tr>\n",
       "  </thead>\n",
       "  <tbody>\n",
       "    <tr>\n",
       "      <th>1998-11-13</th>\n",
       "      <td>1149</td>\n",
       "      <td>1206</td>\n",
       "      <td>1134</td>\n",
       "      <td>1174</td>\n",
       "      <td>895540</td>\n",
       "      <td>NaN</td>\n",
       "    </tr>\n",
       "    <tr>\n",
       "      <th>1998-11-14</th>\n",
       "      <td>1195</td>\n",
       "      <td>1260</td>\n",
       "      <td>1195</td>\n",
       "      <td>1255</td>\n",
       "      <td>784260</td>\n",
       "      <td>0.068995</td>\n",
       "    </tr>\n",
       "    <tr>\n",
       "      <th>1998-11-16</th>\n",
       "      <td>1273</td>\n",
       "      <td>1302</td>\n",
       "      <td>1235</td>\n",
       "      <td>1295</td>\n",
       "      <td>1036810</td>\n",
       "      <td>0.031873</td>\n",
       "    </tr>\n",
       "    <tr>\n",
       "      <th>1998-11-17</th>\n",
       "      <td>1338</td>\n",
       "      <td>1338</td>\n",
       "      <td>1294</td>\n",
       "      <td>1297</td>\n",
       "      <td>924250</td>\n",
       "      <td>0.001544</td>\n",
       "    </tr>\n",
       "    <tr>\n",
       "      <th>1998-11-18</th>\n",
       "      <td>1296</td>\n",
       "      <td>1302</td>\n",
       "      <td>1266</td>\n",
       "      <td>1282</td>\n",
       "      <td>847000</td>\n",
       "      <td>-0.011565</td>\n",
       "    </tr>\n",
       "    <tr>\n",
       "      <th>...</th>\n",
       "      <td>...</td>\n",
       "      <td>...</td>\n",
       "      <td>...</td>\n",
       "      <td>...</td>\n",
       "      <td>...</td>\n",
       "      <td>...</td>\n",
       "    </tr>\n",
       "    <tr>\n",
       "      <th>2023-02-20</th>\n",
       "      <td>62900</td>\n",
       "      <td>63000</td>\n",
       "      <td>61800</td>\n",
       "      <td>62700</td>\n",
       "      <td>12908073</td>\n",
       "      <td>0.001597</td>\n",
       "    </tr>\n",
       "    <tr>\n",
       "      <th>2023-02-21</th>\n",
       "      <td>62700</td>\n",
       "      <td>62800</td>\n",
       "      <td>62000</td>\n",
       "      <td>62100</td>\n",
       "      <td>7665046</td>\n",
       "      <td>-0.009569</td>\n",
       "    </tr>\n",
       "    <tr>\n",
       "      <th>2023-02-22</th>\n",
       "      <td>61500</td>\n",
       "      <td>61800</td>\n",
       "      <td>61000</td>\n",
       "      <td>61100</td>\n",
       "      <td>11959088</td>\n",
       "      <td>-0.016103</td>\n",
       "    </tr>\n",
       "    <tr>\n",
       "      <th>2023-02-23</th>\n",
       "      <td>61700</td>\n",
       "      <td>62500</td>\n",
       "      <td>61500</td>\n",
       "      <td>62000</td>\n",
       "      <td>13047099</td>\n",
       "      <td>0.014730</td>\n",
       "    </tr>\n",
       "    <tr>\n",
       "      <th>2023-02-24</th>\n",
       "      <td>62300</td>\n",
       "      <td>62600</td>\n",
       "      <td>61500</td>\n",
       "      <td>61600</td>\n",
       "      <td>8608767</td>\n",
       "      <td>-0.006452</td>\n",
       "    </tr>\n",
       "  </tbody>\n",
       "</table>\n",
       "<p>6000 rows × 6 columns</p>\n",
       "</div>"
      ],
      "text/plain": [
       "             Open   High    Low  Close    Volume    Change\n",
       "Date                                                      \n",
       "1998-11-13   1149   1206   1134   1174    895540       NaN\n",
       "1998-11-14   1195   1260   1195   1255    784260  0.068995\n",
       "1998-11-16   1273   1302   1235   1295   1036810  0.031873\n",
       "1998-11-17   1338   1338   1294   1297    924250  0.001544\n",
       "1998-11-18   1296   1302   1266   1282    847000 -0.011565\n",
       "...           ...    ...    ...    ...       ...       ...\n",
       "2023-02-20  62900  63000  61800  62700  12908073  0.001597\n",
       "2023-02-21  62700  62800  62000  62100   7665046 -0.009569\n",
       "2023-02-22  61500  61800  61000  61100  11959088 -0.016103\n",
       "2023-02-23  61700  62500  61500  62000  13047099  0.014730\n",
       "2023-02-24  62300  62600  61500  61600   8608767 -0.006452\n",
       "\n",
       "[6000 rows x 6 columns]"
      ]
     },
     "execution_count": 6,
     "metadata": {},
     "output_type": "execute_result"
    }
   ],
   "source": [
    "samsung"
   ]
  },
  {
   "cell_type": "code",
   "execution_count": 7,
   "metadata": {
    "ExecuteTime": {
     "end_time": "2023-02-24T05:58:43.735155Z",
     "start_time": "2023-02-24T05:58:43.710924Z"
    }
   },
   "outputs": [
    {
     "name": "stdout",
     "output_type": "stream",
     "text": [
      "<class 'pandas.core.frame.DataFrame'>\n",
      "DatetimeIndex: 6000 entries, 1998-11-13 to 2023-02-24\n",
      "Data columns (total 6 columns):\n",
      " #   Column  Non-Null Count  Dtype  \n",
      "---  ------  --------------  -----  \n",
      " 0   Open    6000 non-null   int64  \n",
      " 1   High    6000 non-null   int64  \n",
      " 2   Low     6000 non-null   int64  \n",
      " 3   Close   6000 non-null   int64  \n",
      " 4   Volume  6000 non-null   int64  \n",
      " 5   Change  5999 non-null   float64\n",
      "dtypes: float64(1), int64(5)\n",
      "memory usage: 328.1 KB\n"
     ]
    }
   ],
   "source": [
    "samsung.info()"
   ]
  },
  {
   "cell_type": "markdown",
   "metadata": {
    "id": "H2s_lzH1tVJB"
   },
   "source": [
    "매우 편리하게 삼성전자 주가 데이터를 `DataFrame`형식으로 받아옵니다.\n",
    "\n",
    "기본 **오름차순 정렬**이 된 데이터임을 알 수 있습니다.\n",
    "\n",
    "### 컬럼 설명\n",
    "\n",
    "- `Open`:   시가\n",
    "- `High`:   고가\n",
    "- `Low`:    저가\n",
    "- `Close`:  종가\n",
    "- `Volume`: 거래량\n",
    "- `Change`: 대비"
   ]
  },
  {
   "cell_type": "code",
   "execution_count": 8,
   "metadata": {
    "ExecuteTime": {
     "end_time": "2023-02-24T05:59:00.030375Z",
     "start_time": "2023-02-24T05:59:00.012273Z"
    },
    "id": "tEIy-mKHtVJB",
    "outputId": "f13712ef-8699-4c22-db68-f04be3173a14"
   },
   "outputs": [
    {
     "data": {
      "text/html": [
       "<div>\n",
       "<style scoped>\n",
       "    .dataframe tbody tr th:only-of-type {\n",
       "        vertical-align: middle;\n",
       "    }\n",
       "\n",
       "    .dataframe tbody tr th {\n",
       "        vertical-align: top;\n",
       "    }\n",
       "\n",
       "    .dataframe thead th {\n",
       "        text-align: right;\n",
       "    }\n",
       "</style>\n",
       "<table border=\"1\" class=\"dataframe\">\n",
       "  <thead>\n",
       "    <tr style=\"text-align: right;\">\n",
       "      <th></th>\n",
       "      <th>Open</th>\n",
       "      <th>High</th>\n",
       "      <th>Low</th>\n",
       "      <th>Close</th>\n",
       "      <th>Volume</th>\n",
       "      <th>Change</th>\n",
       "    </tr>\n",
       "    <tr>\n",
       "      <th>Date</th>\n",
       "      <th></th>\n",
       "      <th></th>\n",
       "      <th></th>\n",
       "      <th></th>\n",
       "      <th></th>\n",
       "      <th></th>\n",
       "    </tr>\n",
       "  </thead>\n",
       "  <tbody>\n",
       "    <tr>\n",
       "      <th>2023-02-20</th>\n",
       "      <td>62900</td>\n",
       "      <td>63000</td>\n",
       "      <td>61800</td>\n",
       "      <td>62700</td>\n",
       "      <td>12908073</td>\n",
       "      <td>0.001597</td>\n",
       "    </tr>\n",
       "    <tr>\n",
       "      <th>2023-02-21</th>\n",
       "      <td>62700</td>\n",
       "      <td>62800</td>\n",
       "      <td>62000</td>\n",
       "      <td>62100</td>\n",
       "      <td>7665046</td>\n",
       "      <td>-0.009569</td>\n",
       "    </tr>\n",
       "    <tr>\n",
       "      <th>2023-02-22</th>\n",
       "      <td>61500</td>\n",
       "      <td>61800</td>\n",
       "      <td>61000</td>\n",
       "      <td>61100</td>\n",
       "      <td>11959088</td>\n",
       "      <td>-0.016103</td>\n",
       "    </tr>\n",
       "    <tr>\n",
       "      <th>2023-02-23</th>\n",
       "      <td>61700</td>\n",
       "      <td>62500</td>\n",
       "      <td>61500</td>\n",
       "      <td>62000</td>\n",
       "      <td>13047099</td>\n",
       "      <td>0.014730</td>\n",
       "    </tr>\n",
       "    <tr>\n",
       "      <th>2023-02-24</th>\n",
       "      <td>62300</td>\n",
       "      <td>62600</td>\n",
       "      <td>61500</td>\n",
       "      <td>61600</td>\n",
       "      <td>8608767</td>\n",
       "      <td>-0.006452</td>\n",
       "    </tr>\n",
       "  </tbody>\n",
       "</table>\n",
       "</div>"
      ],
      "text/plain": [
       "             Open   High    Low  Close    Volume    Change\n",
       "Date                                                      \n",
       "2023-02-20  62900  63000  61800  62700  12908073  0.001597\n",
       "2023-02-21  62700  62800  62000  62100   7665046 -0.009569\n",
       "2023-02-22  61500  61800  61000  61100  11959088 -0.016103\n",
       "2023-02-23  61700  62500  61500  62000  13047099  0.014730\n",
       "2023-02-24  62300  62600  61500  61600   8608767 -0.006452"
      ]
     },
     "execution_count": 8,
     "metadata": {},
     "output_type": "execute_result"
    }
   ],
   "source": [
    "samsung.tail()"
   ]
  },
  {
   "cell_type": "markdown",
   "metadata": {
    "id": "bF-XOhultVJD"
   },
   "source": [
    "**미국 주식 데이터**도 가져올 수 있습니다."
   ]
  },
  {
   "cell_type": "code",
   "execution_count": 9,
   "metadata": {
    "ExecuteTime": {
     "end_time": "2023-02-24T05:59:06.652099Z",
     "start_time": "2023-02-24T05:59:05.693212Z"
    },
    "id": "hIGRSo2ftVJD"
   },
   "outputs": [],
   "source": [
    "# Apple(AAPL), 애플\n",
    "apple = fdr.DataReader('AAPL')"
   ]
  },
  {
   "cell_type": "code",
   "execution_count": 10,
   "metadata": {
    "ExecuteTime": {
     "end_time": "2023-02-24T05:59:10.909016Z",
     "start_time": "2023-02-24T05:59:10.893883Z"
    },
    "id": "uojMNYMmtVJD",
    "outputId": "be5a22cd-a286-41ba-a50c-e32f594ddc8c"
   },
   "outputs": [
    {
     "data": {
      "text/html": [
       "<div>\n",
       "<style scoped>\n",
       "    .dataframe tbody tr th:only-of-type {\n",
       "        vertical-align: middle;\n",
       "    }\n",
       "\n",
       "    .dataframe tbody tr th {\n",
       "        vertical-align: top;\n",
       "    }\n",
       "\n",
       "    .dataframe thead th {\n",
       "        text-align: right;\n",
       "    }\n",
       "</style>\n",
       "<table border=\"1\" class=\"dataframe\">\n",
       "  <thead>\n",
       "    <tr style=\"text-align: right;\">\n",
       "      <th></th>\n",
       "      <th>Open</th>\n",
       "      <th>High</th>\n",
       "      <th>Low</th>\n",
       "      <th>Close</th>\n",
       "      <th>Adj Close</th>\n",
       "      <th>Volume</th>\n",
       "    </tr>\n",
       "    <tr>\n",
       "      <th>Date</th>\n",
       "      <th></th>\n",
       "      <th></th>\n",
       "      <th></th>\n",
       "      <th></th>\n",
       "      <th></th>\n",
       "      <th></th>\n",
       "    </tr>\n",
       "  </thead>\n",
       "  <tbody>\n",
       "    <tr>\n",
       "      <th>2023-02-16</th>\n",
       "      <td>153.509995</td>\n",
       "      <td>156.330002</td>\n",
       "      <td>153.350006</td>\n",
       "      <td>153.710007</td>\n",
       "      <td>153.710007</td>\n",
       "      <td>68167900</td>\n",
       "    </tr>\n",
       "    <tr>\n",
       "      <th>2023-02-17</th>\n",
       "      <td>152.350006</td>\n",
       "      <td>153.000000</td>\n",
       "      <td>150.850006</td>\n",
       "      <td>152.550003</td>\n",
       "      <td>152.550003</td>\n",
       "      <td>59095900</td>\n",
       "    </tr>\n",
       "    <tr>\n",
       "      <th>2023-02-21</th>\n",
       "      <td>150.199997</td>\n",
       "      <td>151.300003</td>\n",
       "      <td>148.410004</td>\n",
       "      <td>148.479996</td>\n",
       "      <td>148.479996</td>\n",
       "      <td>58867200</td>\n",
       "    </tr>\n",
       "    <tr>\n",
       "      <th>2023-02-22</th>\n",
       "      <td>148.869995</td>\n",
       "      <td>149.949997</td>\n",
       "      <td>147.160004</td>\n",
       "      <td>148.910004</td>\n",
       "      <td>148.910004</td>\n",
       "      <td>51011300</td>\n",
       "    </tr>\n",
       "    <tr>\n",
       "      <th>2023-02-23</th>\n",
       "      <td>150.089996</td>\n",
       "      <td>150.339996</td>\n",
       "      <td>147.240005</td>\n",
       "      <td>149.399994</td>\n",
       "      <td>149.399994</td>\n",
       "      <td>48349600</td>\n",
       "    </tr>\n",
       "  </tbody>\n",
       "</table>\n",
       "</div>"
      ],
      "text/plain": [
       "                  Open        High         Low       Close   Adj Close  \\\n",
       "Date                                                                     \n",
       "2023-02-16  153.509995  156.330002  153.350006  153.710007  153.710007   \n",
       "2023-02-17  152.350006  153.000000  150.850006  152.550003  152.550003   \n",
       "2023-02-21  150.199997  151.300003  148.410004  148.479996  148.479996   \n",
       "2023-02-22  148.869995  149.949997  147.160004  148.910004  148.910004   \n",
       "2023-02-23  150.089996  150.339996  147.240005  149.399994  149.399994   \n",
       "\n",
       "              Volume  \n",
       "Date                  \n",
       "2023-02-16  68167900  \n",
       "2023-02-17  59095900  \n",
       "2023-02-21  58867200  \n",
       "2023-02-22  51011300  \n",
       "2023-02-23  48349600  "
      ]
     },
     "execution_count": 10,
     "metadata": {},
     "output_type": "execute_result"
    }
   ],
   "source": [
    "apple.tail()"
   ]
  },
  {
   "cell_type": "markdown",
   "metadata": {
    "id": "rIhWEI21tVJE"
   },
   "source": [
    "다음과 같이 `2017`을 같이 넘겨주면, 해당 시점 이후의 주식 데이터를 가져옵니다."
   ]
  },
  {
   "cell_type": "code",
   "execution_count": 11,
   "metadata": {
    "ExecuteTime": {
     "end_time": "2023-02-24T05:59:17.566796Z",
     "start_time": "2023-02-24T05:59:17.012149Z"
    },
    "id": "dDAq99VitVJE"
   },
   "outputs": [],
   "source": [
    "# Apple(AAPL), 애플\n",
    "apple = fdr.DataReader('AAPL', '2017')"
   ]
  },
  {
   "cell_type": "code",
   "execution_count": 12,
   "metadata": {
    "ExecuteTime": {
     "end_time": "2023-02-24T05:59:18.324760Z",
     "start_time": "2023-02-24T05:59:18.303760Z"
    },
    "id": "58HGWPpStVJE",
    "outputId": "c5c6229d-f1ac-43b7-f49d-0b6aab8b8c64"
   },
   "outputs": [
    {
     "data": {
      "text/html": [
       "<div>\n",
       "<style scoped>\n",
       "    .dataframe tbody tr th:only-of-type {\n",
       "        vertical-align: middle;\n",
       "    }\n",
       "\n",
       "    .dataframe tbody tr th {\n",
       "        vertical-align: top;\n",
       "    }\n",
       "\n",
       "    .dataframe thead th {\n",
       "        text-align: right;\n",
       "    }\n",
       "</style>\n",
       "<table border=\"1\" class=\"dataframe\">\n",
       "  <thead>\n",
       "    <tr style=\"text-align: right;\">\n",
       "      <th></th>\n",
       "      <th>Open</th>\n",
       "      <th>High</th>\n",
       "      <th>Low</th>\n",
       "      <th>Close</th>\n",
       "      <th>Adj Close</th>\n",
       "      <th>Volume</th>\n",
       "    </tr>\n",
       "    <tr>\n",
       "      <th>Date</th>\n",
       "      <th></th>\n",
       "      <th></th>\n",
       "      <th></th>\n",
       "      <th></th>\n",
       "      <th></th>\n",
       "      <th></th>\n",
       "    </tr>\n",
       "  </thead>\n",
       "  <tbody>\n",
       "    <tr>\n",
       "      <th>2017-01-03</th>\n",
       "      <td>28.950001</td>\n",
       "      <td>29.082500</td>\n",
       "      <td>28.690001</td>\n",
       "      <td>29.037500</td>\n",
       "      <td>27.133329</td>\n",
       "      <td>115127600</td>\n",
       "    </tr>\n",
       "    <tr>\n",
       "      <th>2017-01-04</th>\n",
       "      <td>28.962500</td>\n",
       "      <td>29.127501</td>\n",
       "      <td>28.937500</td>\n",
       "      <td>29.004999</td>\n",
       "      <td>27.102961</td>\n",
       "      <td>84472400</td>\n",
       "    </tr>\n",
       "    <tr>\n",
       "      <th>2017-01-05</th>\n",
       "      <td>28.980000</td>\n",
       "      <td>29.215000</td>\n",
       "      <td>28.952499</td>\n",
       "      <td>29.152500</td>\n",
       "      <td>27.240784</td>\n",
       "      <td>88774400</td>\n",
       "    </tr>\n",
       "    <tr>\n",
       "      <th>2017-01-06</th>\n",
       "      <td>29.195000</td>\n",
       "      <td>29.540001</td>\n",
       "      <td>29.117500</td>\n",
       "      <td>29.477501</td>\n",
       "      <td>27.544472</td>\n",
       "      <td>127007600</td>\n",
       "    </tr>\n",
       "    <tr>\n",
       "      <th>2017-01-09</th>\n",
       "      <td>29.487499</td>\n",
       "      <td>29.857500</td>\n",
       "      <td>29.485001</td>\n",
       "      <td>29.747499</td>\n",
       "      <td>27.796764</td>\n",
       "      <td>134247600</td>\n",
       "    </tr>\n",
       "  </tbody>\n",
       "</table>\n",
       "</div>"
      ],
      "text/plain": [
       "                 Open       High        Low      Close  Adj Close     Volume\n",
       "Date                                                                        \n",
       "2017-01-03  28.950001  29.082500  28.690001  29.037500  27.133329  115127600\n",
       "2017-01-04  28.962500  29.127501  28.937500  29.004999  27.102961   84472400\n",
       "2017-01-05  28.980000  29.215000  28.952499  29.152500  27.240784   88774400\n",
       "2017-01-06  29.195000  29.540001  29.117500  29.477501  27.544472  127007600\n",
       "2017-01-09  29.487499  29.857500  29.485001  29.747499  27.796764  134247600"
      ]
     },
     "execution_count": 12,
     "metadata": {},
     "output_type": "execute_result"
    }
   ],
   "source": [
    "apple.head()"
   ]
  },
  {
   "cell_type": "markdown",
   "metadata": {
    "id": "rcRA3OtUtVJE"
   },
   "source": [
    "**시작**과 **끝** 날짜를 지정하여 범위 데이터를 가져올 수 있습니다."
   ]
  },
  {
   "cell_type": "code",
   "execution_count": 13,
   "metadata": {
    "ExecuteTime": {
     "end_time": "2023-02-24T05:59:31.392851Z",
     "start_time": "2023-02-24T05:59:30.603102Z"
    },
    "id": "-eg8MY0-tVJE"
   },
   "outputs": [],
   "source": [
    "# Ford(F), 1980-01-01 ~ 2019-12-30 (40년 데이터)\n",
    "ford = fdr.DataReader('F', '1980-01-01', '2019-12-30')"
   ]
  },
  {
   "cell_type": "code",
   "execution_count": 14,
   "metadata": {
    "ExecuteTime": {
     "end_time": "2023-02-24T05:59:33.937009Z",
     "start_time": "2023-02-24T05:59:33.929472Z"
    },
    "id": "Ya0C2MJltVJF",
    "outputId": "ca19ce12-233c-4c2f-f3bf-3fc479a34b8b"
   },
   "outputs": [
    {
     "data": {
      "text/html": [
       "<div>\n",
       "<style scoped>\n",
       "    .dataframe tbody tr th:only-of-type {\n",
       "        vertical-align: middle;\n",
       "    }\n",
       "\n",
       "    .dataframe tbody tr th {\n",
       "        vertical-align: top;\n",
       "    }\n",
       "\n",
       "    .dataframe thead th {\n",
       "        text-align: right;\n",
       "    }\n",
       "</style>\n",
       "<table border=\"1\" class=\"dataframe\">\n",
       "  <thead>\n",
       "    <tr style=\"text-align: right;\">\n",
       "      <th></th>\n",
       "      <th>Open</th>\n",
       "      <th>High</th>\n",
       "      <th>Low</th>\n",
       "      <th>Close</th>\n",
       "      <th>Adj Close</th>\n",
       "      <th>Volume</th>\n",
       "    </tr>\n",
       "    <tr>\n",
       "      <th>Date</th>\n",
       "      <th></th>\n",
       "      <th></th>\n",
       "      <th></th>\n",
       "      <th></th>\n",
       "      <th></th>\n",
       "      <th></th>\n",
       "    </tr>\n",
       "  </thead>\n",
       "  <tbody>\n",
       "    <tr>\n",
       "      <th>1980-01-02</th>\n",
       "      <td>1.297609</td>\n",
       "      <td>1.328022</td>\n",
       "      <td>1.287471</td>\n",
       "      <td>1.287471</td>\n",
       "      <td>0.249645</td>\n",
       "      <td>2044376</td>\n",
       "    </tr>\n",
       "    <tr>\n",
       "      <th>1980-01-03</th>\n",
       "      <td>1.287471</td>\n",
       "      <td>1.287471</td>\n",
       "      <td>1.267196</td>\n",
       "      <td>1.287471</td>\n",
       "      <td>0.249645</td>\n",
       "      <td>2816257</td>\n",
       "    </tr>\n",
       "    <tr>\n",
       "      <th>1980-01-04</th>\n",
       "      <td>1.287471</td>\n",
       "      <td>1.287471</td>\n",
       "      <td>1.272265</td>\n",
       "      <td>1.277334</td>\n",
       "      <td>0.247679</td>\n",
       "      <td>3038203</td>\n",
       "    </tr>\n",
       "    <tr>\n",
       "      <th>1980-01-07</th>\n",
       "      <td>1.277334</td>\n",
       "      <td>1.287471</td>\n",
       "      <td>1.267196</td>\n",
       "      <td>1.267196</td>\n",
       "      <td>0.245714</td>\n",
       "      <td>2251526</td>\n",
       "    </tr>\n",
       "    <tr>\n",
       "      <th>1980-01-08</th>\n",
       "      <td>1.267196</td>\n",
       "      <td>1.292540</td>\n",
       "      <td>1.257059</td>\n",
       "      <td>1.292540</td>\n",
       "      <td>0.250628</td>\n",
       "      <td>4069022</td>\n",
       "    </tr>\n",
       "  </tbody>\n",
       "</table>\n",
       "</div>"
      ],
      "text/plain": [
       "                Open      High       Low     Close  Adj Close   Volume\n",
       "Date                                                                  \n",
       "1980-01-02  1.297609  1.328022  1.287471  1.287471   0.249645  2044376\n",
       "1980-01-03  1.287471  1.287471  1.267196  1.287471   0.249645  2816257\n",
       "1980-01-04  1.287471  1.287471  1.272265  1.277334   0.247679  3038203\n",
       "1980-01-07  1.277334  1.287471  1.267196  1.267196   0.245714  2251526\n",
       "1980-01-08  1.267196  1.292540  1.257059  1.292540   0.250628  4069022"
      ]
     },
     "execution_count": 14,
     "metadata": {},
     "output_type": "execute_result"
    }
   ],
   "source": [
    "ford.head()"
   ]
  },
  {
   "cell_type": "code",
   "execution_count": 15,
   "metadata": {
    "ExecuteTime": {
     "end_time": "2023-02-24T05:59:36.333653Z",
     "start_time": "2023-02-24T05:59:36.325665Z"
    },
    "id": "4-PmnbeUtVJF",
    "outputId": "46e11d61-459b-4776-fc69-32b0ad86a25e"
   },
   "outputs": [
    {
     "data": {
      "text/html": [
       "<div>\n",
       "<style scoped>\n",
       "    .dataframe tbody tr th:only-of-type {\n",
       "        vertical-align: middle;\n",
       "    }\n",
       "\n",
       "    .dataframe tbody tr th {\n",
       "        vertical-align: top;\n",
       "    }\n",
       "\n",
       "    .dataframe thead th {\n",
       "        text-align: right;\n",
       "    }\n",
       "</style>\n",
       "<table border=\"1\" class=\"dataframe\">\n",
       "  <thead>\n",
       "    <tr style=\"text-align: right;\">\n",
       "      <th></th>\n",
       "      <th>Open</th>\n",
       "      <th>High</th>\n",
       "      <th>Low</th>\n",
       "      <th>Close</th>\n",
       "      <th>Adj Close</th>\n",
       "      <th>Volume</th>\n",
       "    </tr>\n",
       "    <tr>\n",
       "      <th>Date</th>\n",
       "      <th></th>\n",
       "      <th></th>\n",
       "      <th></th>\n",
       "      <th></th>\n",
       "      <th></th>\n",
       "      <th></th>\n",
       "    </tr>\n",
       "  </thead>\n",
       "  <tbody>\n",
       "    <tr>\n",
       "      <th>2019-12-20</th>\n",
       "      <td>9.50</td>\n",
       "      <td>9.54</td>\n",
       "      <td>9.44</td>\n",
       "      <td>9.48</td>\n",
       "      <td>8.449280</td>\n",
       "      <td>50191200</td>\n",
       "    </tr>\n",
       "    <tr>\n",
       "      <th>2019-12-23</th>\n",
       "      <td>9.50</td>\n",
       "      <td>9.57</td>\n",
       "      <td>9.40</td>\n",
       "      <td>9.44</td>\n",
       "      <td>8.413630</td>\n",
       "      <td>54784400</td>\n",
       "    </tr>\n",
       "    <tr>\n",
       "      <th>2019-12-24</th>\n",
       "      <td>9.44</td>\n",
       "      <td>9.49</td>\n",
       "      <td>9.43</td>\n",
       "      <td>9.47</td>\n",
       "      <td>8.440370</td>\n",
       "      <td>11881600</td>\n",
       "    </tr>\n",
       "    <tr>\n",
       "      <th>2019-12-26</th>\n",
       "      <td>9.47</td>\n",
       "      <td>9.49</td>\n",
       "      <td>9.43</td>\n",
       "      <td>9.45</td>\n",
       "      <td>8.422543</td>\n",
       "      <td>28961300</td>\n",
       "    </tr>\n",
       "    <tr>\n",
       "      <th>2019-12-27</th>\n",
       "      <td>9.45</td>\n",
       "      <td>9.46</td>\n",
       "      <td>9.35</td>\n",
       "      <td>9.36</td>\n",
       "      <td>8.342328</td>\n",
       "      <td>28272800</td>\n",
       "    </tr>\n",
       "  </tbody>\n",
       "</table>\n",
       "</div>"
      ],
      "text/plain": [
       "            Open  High   Low  Close  Adj Close    Volume\n",
       "Date                                                    \n",
       "2019-12-20  9.50  9.54  9.44   9.48   8.449280  50191200\n",
       "2019-12-23  9.50  9.57  9.40   9.44   8.413630  54784400\n",
       "2019-12-24  9.44  9.49  9.43   9.47   8.440370  11881600\n",
       "2019-12-26  9.47  9.49  9.43   9.45   8.422543  28961300\n",
       "2019-12-27  9.45  9.46  9.35   9.36   8.342328  28272800"
      ]
     },
     "execution_count": 15,
     "metadata": {},
     "output_type": "execute_result"
    }
   ],
   "source": [
    "ford.tail()"
   ]
  },
  {
   "cell_type": "markdown",
   "metadata": {
    "id": "ErJc_ba6tVJF"
   },
   "source": [
    "그 밖에 **금, 은과 같은 현물**, **달러와 같은 화폐** 데이터도 가져올 수 있습니다."
   ]
  },
  {
   "cell_type": "markdown",
   "metadata": {
    "id": "F8Thv1aQtVJI"
   },
   "source": [
    "더욱 자세한 내용은 [GitHub 페이지 링크](https://github.com/FinanceData/FinanceDataReader)를 참고해 보시기 바랍니다."
   ]
  },
  {
   "cell_type": "code",
   "execution_count": 16,
   "metadata": {
    "ExecuteTime": {
     "end_time": "2023-02-24T05:59:44.208341Z",
     "start_time": "2023-02-24T05:59:44.194342Z"
    },
    "id": "RJtxeKQm0l2w"
   },
   "outputs": [],
   "source": [
    "## 주가데이터 가져오기"
   ]
  },
  {
   "cell_type": "markdown",
   "metadata": {
    "id": "7q48q8dVtVJI"
   },
   "source": [
    "지난 주식 예측 튜토리얼에서는 **삼성전자** 주가데이터로 실습을 해봤으니, \n",
    "\n",
    "이번에는 글로벌 증시의 대장주인 **Apple**사의 주가데이터를 가져와서 예측해 보도록 하겠습니다."
   ]
  },
  {
   "cell_type": "code",
   "execution_count": 17,
   "metadata": {
    "ExecuteTime": {
     "end_time": "2023-02-24T05:59:51.644225Z",
     "start_time": "2023-02-24T05:59:51.639270Z"
    },
    "id": "5O2ar8UhtVJI"
   },
   "outputs": [],
   "source": [
    "# 삼성전자 주식코드: 005930\n",
    "STOCK_CODE = '005930'"
   ]
  },
  {
   "cell_type": "code",
   "execution_count": 18,
   "metadata": {
    "ExecuteTime": {
     "end_time": "2023-02-24T05:59:52.526826Z",
     "start_time": "2023-02-24T05:59:52.433777Z"
    },
    "id": "fN7n0BkWtVJI"
   },
   "outputs": [],
   "source": [
    "stock = fdr.DataReader(STOCK_CODE)"
   ]
  },
  {
   "cell_type": "code",
   "execution_count": 19,
   "metadata": {
    "ExecuteTime": {
     "end_time": "2023-02-24T05:59:54.391594Z",
     "start_time": "2023-02-24T05:59:54.379205Z"
    },
    "id": "d_sspFc7tVJJ",
    "outputId": "cf4f4470-c577-47a9-de94-b4cdfd352550"
   },
   "outputs": [
    {
     "data": {
      "text/html": [
       "<div>\n",
       "<style scoped>\n",
       "    .dataframe tbody tr th:only-of-type {\n",
       "        vertical-align: middle;\n",
       "    }\n",
       "\n",
       "    .dataframe tbody tr th {\n",
       "        vertical-align: top;\n",
       "    }\n",
       "\n",
       "    .dataframe thead th {\n",
       "        text-align: right;\n",
       "    }\n",
       "</style>\n",
       "<table border=\"1\" class=\"dataframe\">\n",
       "  <thead>\n",
       "    <tr style=\"text-align: right;\">\n",
       "      <th></th>\n",
       "      <th>Open</th>\n",
       "      <th>High</th>\n",
       "      <th>Low</th>\n",
       "      <th>Close</th>\n",
       "      <th>Volume</th>\n",
       "      <th>Change</th>\n",
       "    </tr>\n",
       "    <tr>\n",
       "      <th>Date</th>\n",
       "      <th></th>\n",
       "      <th></th>\n",
       "      <th></th>\n",
       "      <th></th>\n",
       "      <th></th>\n",
       "      <th></th>\n",
       "    </tr>\n",
       "  </thead>\n",
       "  <tbody>\n",
       "    <tr>\n",
       "      <th>1998-11-13</th>\n",
       "      <td>1149</td>\n",
       "      <td>1206</td>\n",
       "      <td>1134</td>\n",
       "      <td>1174</td>\n",
       "      <td>895540</td>\n",
       "      <td>NaN</td>\n",
       "    </tr>\n",
       "    <tr>\n",
       "      <th>1998-11-14</th>\n",
       "      <td>1195</td>\n",
       "      <td>1260</td>\n",
       "      <td>1195</td>\n",
       "      <td>1255</td>\n",
       "      <td>784260</td>\n",
       "      <td>0.068995</td>\n",
       "    </tr>\n",
       "    <tr>\n",
       "      <th>1998-11-16</th>\n",
       "      <td>1273</td>\n",
       "      <td>1302</td>\n",
       "      <td>1235</td>\n",
       "      <td>1295</td>\n",
       "      <td>1036810</td>\n",
       "      <td>0.031873</td>\n",
       "    </tr>\n",
       "    <tr>\n",
       "      <th>1998-11-17</th>\n",
       "      <td>1338</td>\n",
       "      <td>1338</td>\n",
       "      <td>1294</td>\n",
       "      <td>1297</td>\n",
       "      <td>924250</td>\n",
       "      <td>0.001544</td>\n",
       "    </tr>\n",
       "    <tr>\n",
       "      <th>1998-11-18</th>\n",
       "      <td>1296</td>\n",
       "      <td>1302</td>\n",
       "      <td>1266</td>\n",
       "      <td>1282</td>\n",
       "      <td>847000</td>\n",
       "      <td>-0.011565</td>\n",
       "    </tr>\n",
       "  </tbody>\n",
       "</table>\n",
       "</div>"
      ],
      "text/plain": [
       "            Open  High   Low  Close   Volume    Change\n",
       "Date                                                  \n",
       "1998-11-13  1149  1206  1134   1174   895540       NaN\n",
       "1998-11-14  1195  1260  1195   1255   784260  0.068995\n",
       "1998-11-16  1273  1302  1235   1295  1036810  0.031873\n",
       "1998-11-17  1338  1338  1294   1297   924250  0.001544\n",
       "1998-11-18  1296  1302  1266   1282   847000 -0.011565"
      ]
     },
     "execution_count": 19,
     "metadata": {},
     "output_type": "execute_result"
    }
   ],
   "source": [
    "stock.head()"
   ]
  },
  {
   "cell_type": "code",
   "execution_count": 20,
   "metadata": {
    "ExecuteTime": {
     "end_time": "2023-02-24T06:00:00.446744Z",
     "start_time": "2023-02-24T06:00:00.439745Z"
    },
    "id": "iE029AsDtVJJ",
    "outputId": "e1a98ae3-0ac4-487b-8a56-376ccf01f95b"
   },
   "outputs": [
    {
     "data": {
      "text/html": [
       "<div>\n",
       "<style scoped>\n",
       "    .dataframe tbody tr th:only-of-type {\n",
       "        vertical-align: middle;\n",
       "    }\n",
       "\n",
       "    .dataframe tbody tr th {\n",
       "        vertical-align: top;\n",
       "    }\n",
       "\n",
       "    .dataframe thead th {\n",
       "        text-align: right;\n",
       "    }\n",
       "</style>\n",
       "<table border=\"1\" class=\"dataframe\">\n",
       "  <thead>\n",
       "    <tr style=\"text-align: right;\">\n",
       "      <th></th>\n",
       "      <th>Open</th>\n",
       "      <th>High</th>\n",
       "      <th>Low</th>\n",
       "      <th>Close</th>\n",
       "      <th>Volume</th>\n",
       "      <th>Change</th>\n",
       "    </tr>\n",
       "    <tr>\n",
       "      <th>Date</th>\n",
       "      <th></th>\n",
       "      <th></th>\n",
       "      <th></th>\n",
       "      <th></th>\n",
       "      <th></th>\n",
       "      <th></th>\n",
       "    </tr>\n",
       "  </thead>\n",
       "  <tbody>\n",
       "    <tr>\n",
       "      <th>2023-02-20</th>\n",
       "      <td>62900</td>\n",
       "      <td>63000</td>\n",
       "      <td>61800</td>\n",
       "      <td>62700</td>\n",
       "      <td>12908073</td>\n",
       "      <td>0.001597</td>\n",
       "    </tr>\n",
       "    <tr>\n",
       "      <th>2023-02-21</th>\n",
       "      <td>62700</td>\n",
       "      <td>62800</td>\n",
       "      <td>62000</td>\n",
       "      <td>62100</td>\n",
       "      <td>7665046</td>\n",
       "      <td>-0.009569</td>\n",
       "    </tr>\n",
       "    <tr>\n",
       "      <th>2023-02-22</th>\n",
       "      <td>61500</td>\n",
       "      <td>61800</td>\n",
       "      <td>61000</td>\n",
       "      <td>61100</td>\n",
       "      <td>11959088</td>\n",
       "      <td>-0.016103</td>\n",
       "    </tr>\n",
       "    <tr>\n",
       "      <th>2023-02-23</th>\n",
       "      <td>61700</td>\n",
       "      <td>62500</td>\n",
       "      <td>61500</td>\n",
       "      <td>62000</td>\n",
       "      <td>13047099</td>\n",
       "      <td>0.014730</td>\n",
       "    </tr>\n",
       "    <tr>\n",
       "      <th>2023-02-24</th>\n",
       "      <td>62300</td>\n",
       "      <td>62600</td>\n",
       "      <td>61500</td>\n",
       "      <td>61600</td>\n",
       "      <td>8631622</td>\n",
       "      <td>-0.006452</td>\n",
       "    </tr>\n",
       "  </tbody>\n",
       "</table>\n",
       "</div>"
      ],
      "text/plain": [
       "             Open   High    Low  Close    Volume    Change\n",
       "Date                                                      \n",
       "2023-02-20  62900  63000  61800  62700  12908073  0.001597\n",
       "2023-02-21  62700  62800  62000  62100   7665046 -0.009569\n",
       "2023-02-22  61500  61800  61000  61100  11959088 -0.016103\n",
       "2023-02-23  61700  62500  61500  62000  13047099  0.014730\n",
       "2023-02-24  62300  62600  61500  61600   8631622 -0.006452"
      ]
     },
     "execution_count": 20,
     "metadata": {},
     "output_type": "execute_result"
    }
   ],
   "source": [
    "stock.tail()"
   ]
  },
  {
   "cell_type": "code",
   "execution_count": 21,
   "metadata": {
    "ExecuteTime": {
     "end_time": "2023-02-24T06:00:02.648791Z",
     "start_time": "2023-02-24T06:00:02.634477Z"
    },
    "id": "945hCexltVJJ",
    "outputId": "9468fceb-59ae-4534-9731-beb177873bed"
   },
   "outputs": [
    {
     "data": {
      "text/plain": [
       "DatetimeIndex(['1998-11-13', '1998-11-14', '1998-11-16', '1998-11-17',\n",
       "               '1998-11-18', '1998-11-19', '1998-11-20', '1998-11-21',\n",
       "               '1998-11-23', '1998-11-24',\n",
       "               ...\n",
       "               '2023-02-13', '2023-02-14', '2023-02-15', '2023-02-16',\n",
       "               '2023-02-17', '2023-02-20', '2023-02-21', '2023-02-22',\n",
       "               '2023-02-23', '2023-02-24'],\n",
       "              dtype='datetime64[ns]', name='Date', length=6000, freq=None)"
      ]
     },
     "execution_count": 21,
     "metadata": {},
     "output_type": "execute_result"
    }
   ],
   "source": [
    "stock.index"
   ]
  },
  {
   "cell_type": "markdown",
   "metadata": {
    "id": "nk1S-Dt-tVJJ"
   },
   "source": [
    "위에서 보시는 바와 같이 index가 `DatetimeIndex`로 지정되어 있습니다.\n",
    "\n",
    "`DatetimeIndex`로 정의되어 있다면, 아래와 같이 연도, 월, 일을 쪼갤 수 있으며, **월별, 연도별 피벗데이터**를 만들때 유용하게 활용할 수 있습니다."
   ]
  },
  {
   "cell_type": "code",
   "execution_count": 22,
   "metadata": {
    "ExecuteTime": {
     "end_time": "2023-02-24T06:00:13.377925Z",
     "start_time": "2023-02-24T06:00:13.358928Z"
    },
    "id": "fif43Fh-0l4L"
   },
   "outputs": [],
   "source": [
    "stock['Year'] = stock.index.year\n",
    "stock['Month'] = stock.index.month\n",
    "stock['Day'] = stock.index.day"
   ]
  },
  {
   "cell_type": "code",
   "execution_count": 23,
   "metadata": {
    "ExecuteTime": {
     "end_time": "2023-02-24T06:00:14.901625Z",
     "start_time": "2023-02-24T06:00:14.886356Z"
    },
    "colab": {
     "base_uri": "https://localhost:8080/",
     "height": 198
    },
    "id": "0yAKE9Ag0l4S",
    "outputId": "e7470fde-813c-4e25-9779-53f92ec20bfc"
   },
   "outputs": [
    {
     "data": {
      "text/html": [
       "<div>\n",
       "<style scoped>\n",
       "    .dataframe tbody tr th:only-of-type {\n",
       "        vertical-align: middle;\n",
       "    }\n",
       "\n",
       "    .dataframe tbody tr th {\n",
       "        vertical-align: top;\n",
       "    }\n",
       "\n",
       "    .dataframe thead th {\n",
       "        text-align: right;\n",
       "    }\n",
       "</style>\n",
       "<table border=\"1\" class=\"dataframe\">\n",
       "  <thead>\n",
       "    <tr style=\"text-align: right;\">\n",
       "      <th></th>\n",
       "      <th>Open</th>\n",
       "      <th>High</th>\n",
       "      <th>Low</th>\n",
       "      <th>Close</th>\n",
       "      <th>Volume</th>\n",
       "      <th>Change</th>\n",
       "      <th>Year</th>\n",
       "      <th>Month</th>\n",
       "      <th>Day</th>\n",
       "    </tr>\n",
       "    <tr>\n",
       "      <th>Date</th>\n",
       "      <th></th>\n",
       "      <th></th>\n",
       "      <th></th>\n",
       "      <th></th>\n",
       "      <th></th>\n",
       "      <th></th>\n",
       "      <th></th>\n",
       "      <th></th>\n",
       "      <th></th>\n",
       "    </tr>\n",
       "  </thead>\n",
       "  <tbody>\n",
       "    <tr>\n",
       "      <th>1998-11-13</th>\n",
       "      <td>1149</td>\n",
       "      <td>1206</td>\n",
       "      <td>1134</td>\n",
       "      <td>1174</td>\n",
       "      <td>895540</td>\n",
       "      <td>NaN</td>\n",
       "      <td>1998</td>\n",
       "      <td>11</td>\n",
       "      <td>13</td>\n",
       "    </tr>\n",
       "    <tr>\n",
       "      <th>1998-11-14</th>\n",
       "      <td>1195</td>\n",
       "      <td>1260</td>\n",
       "      <td>1195</td>\n",
       "      <td>1255</td>\n",
       "      <td>784260</td>\n",
       "      <td>0.068995</td>\n",
       "      <td>1998</td>\n",
       "      <td>11</td>\n",
       "      <td>14</td>\n",
       "    </tr>\n",
       "    <tr>\n",
       "      <th>1998-11-16</th>\n",
       "      <td>1273</td>\n",
       "      <td>1302</td>\n",
       "      <td>1235</td>\n",
       "      <td>1295</td>\n",
       "      <td>1036810</td>\n",
       "      <td>0.031873</td>\n",
       "      <td>1998</td>\n",
       "      <td>11</td>\n",
       "      <td>16</td>\n",
       "    </tr>\n",
       "    <tr>\n",
       "      <th>1998-11-17</th>\n",
       "      <td>1338</td>\n",
       "      <td>1338</td>\n",
       "      <td>1294</td>\n",
       "      <td>1297</td>\n",
       "      <td>924250</td>\n",
       "      <td>0.001544</td>\n",
       "      <td>1998</td>\n",
       "      <td>11</td>\n",
       "      <td>17</td>\n",
       "    </tr>\n",
       "    <tr>\n",
       "      <th>1998-11-18</th>\n",
       "      <td>1296</td>\n",
       "      <td>1302</td>\n",
       "      <td>1266</td>\n",
       "      <td>1282</td>\n",
       "      <td>847000</td>\n",
       "      <td>-0.011565</td>\n",
       "      <td>1998</td>\n",
       "      <td>11</td>\n",
       "      <td>18</td>\n",
       "    </tr>\n",
       "  </tbody>\n",
       "</table>\n",
       "</div>"
      ],
      "text/plain": [
       "            Open  High   Low  Close   Volume    Change  Year  Month  Day\n",
       "Date                                                                    \n",
       "1998-11-13  1149  1206  1134   1174   895540       NaN  1998     11   13\n",
       "1998-11-14  1195  1260  1195   1255   784260  0.068995  1998     11   14\n",
       "1998-11-16  1273  1302  1235   1295  1036810  0.031873  1998     11   16\n",
       "1998-11-17  1338  1338  1294   1297   924250  0.001544  1998     11   17\n",
       "1998-11-18  1296  1302  1266   1282   847000 -0.011565  1998     11   18"
      ]
     },
     "execution_count": 23,
     "metadata": {},
     "output_type": "execute_result"
    }
   ],
   "source": [
    "stock.head()"
   ]
  },
  {
   "cell_type": "markdown",
   "metadata": {
    "id": "5FBTlube0l4d"
   },
   "source": [
    "## 시각화"
   ]
  },
  {
   "cell_type": "code",
   "execution_count": 24,
   "metadata": {
    "ExecuteTime": {
     "end_time": "2023-02-24T06:00:23.397043Z",
     "start_time": "2023-02-24T06:00:23.159239Z"
    },
    "colab": {
     "base_uri": "https://localhost:8080/",
     "height": 571
    },
    "id": "MWcaWEa80l4o",
    "outputId": "5e77a9be-a7fa-4c14-b7fb-4bec85e92448"
   },
   "outputs": [
    {
     "data": {
      "text/plain": [
       "Text(0, 0.5, 'price')"
      ]
     },
     "execution_count": 24,
     "metadata": {},
     "output_type": "execute_result"
    },
    {
     "name": "stderr",
     "output_type": "stream",
     "text": [
      "findfont: Font family ['NanumGothic'] not found. Falling back to DejaVu Sans.\n"
     ]
    },
    {
     "data": {
      "image/png": "[encoded data removed]",
      "text/plain": [
       "<Figure size 1600x900 with 1 Axes>"
      ]
     },
     "metadata": {},
     "output_type": "display_data"
    }
   ],
   "source": [
    "plt.figure(figsize=(16, 9))\n",
    "sns.lineplot(y=stock['Close'], x=stock.index)\n",
    "plt.xlabel('time')\n",
    "plt.ylabel('price')"
   ]
  },
  {
   "cell_type": "code",
   "execution_count": 26,
   "metadata": {
    "ExecuteTime": {
     "end_time": "2023-02-24T06:01:42.114931Z",
     "start_time": "2023-02-24T06:01:41.589119Z"
    },
    "id": "pi94NHJBtVJJ",
    "outputId": "0ebaed4f-5ea5-409e-8534-3ff96d4318ee"
   },
   "outputs": [
    {
     "data": {
      "image/png": "[encoded data removed]",
      "text/plain": [
       "<Figure size 1600x900 with 4 Axes>"
      ]
     },
     "metadata": {},
     "output_type": "display_data"
    }
   ],
   "source": [
    "time_steps = [['1990', '2000'], \n",
    "              ['2000', '2010'], \n",
    "              ['2010', '2015'], \n",
    "              ['2015', '2020']]\n",
    "\n",
    "fig, axes = plt.subplots(2, 2)\n",
    "fig.set_size_inches(16, 9)\n",
    "for i in range(4):\n",
    "    ax = axes[i//2, i%2]\n",
    "    df = stock.loc[(stock.index > time_steps[i][0]) & (stock.index < time_steps[i][1])]\n",
    "    sns.lineplot(y=df['Close'], x=df.index, ax=ax)\n",
    "    ax.set_title(f'{time_steps[i][0]}~{time_steps[i][1]}')\n",
    "    ax.set_xlabel('time')\n",
    "    ax.set_ylabel('price')\n",
    "plt.tight_layout()\n",
    "plt.show()"
   ]
  },
  {
   "cell_type": "markdown",
   "metadata": {
    "id": "P7lwAOzWtVJK"
   },
   "source": [
    "## 데이터 전처리"
   ]
  },
  {
   "cell_type": "markdown",
   "metadata": {
    "id": "rRiwfA8HtVJK"
   },
   "source": [
    "주가 데이터에 대하여 딥러닝 모델이 더 잘 학습할 수 있도록 **정규화(Normalization)**를 해주도록 하겠습니다.\n",
    "\n",
    "**표준화 (Standardization)**와 **정규화(Normalization)**에 대한 내용은 아래 링크에서 더 자세히 다루니, 참고해 보시기 바랍니다.\n",
    "\n",
    "- [데이터 전처리에 관하여](https://teddylee777.github.io/scikit-learn/scikit-learn-preprocessing)"
   ]
  },
  {
   "cell_type": "code",
   "execution_count": 27,
   "metadata": {
    "ExecuteTime": {
     "end_time": "2023-02-24T06:02:32.653076Z",
     "start_time": "2023-02-24T06:02:32.494565Z"
    },
    "id": "4-4PgRMZ0l5Q",
    "outputId": "d8a61483-1220-43d6-f0dc-0afea0d4c474"
   },
   "outputs": [
    {
     "data": {
      "text/plain": [
       "array([[0.01272425, 0.01245868, 0.01267039, 0.        , 0.00991671],\n",
       "       [0.01323367, 0.01301653, 0.01335196, 0.00090174, 0.00868446],\n",
       "       [0.01409745, 0.01345041, 0.01379888, 0.00134705, 0.01148105],\n",
       "       ...,\n",
       "       [0.68106312, 0.63842975, 0.68156425, 0.66713424, 0.13242824],\n",
       "       [0.68327796, 0.64566116, 0.68715084, 0.67715361, 0.14447626],\n",
       "       [0.68992248, 0.64669421, 0.68715084, 0.67270055, 0.09558175]])"
      ]
     },
     "execution_count": 27,
     "metadata": {},
     "output_type": "execute_result"
    }
   ],
   "source": [
    "from sklearn.preprocessing import MinMaxScaler\n",
    "\n",
    "scaler = MinMaxScaler()\n",
    "# 스케일을 적용할 column을 정의합니다.\n",
    "scale_cols = ['Open', 'High', 'Low', 'Close', 'Volume']\n",
    "# 스케일 후 columns\n",
    "scaled = scaler.fit_transform(stock[scale_cols])\n",
    "scaled"
   ]
  },
  {
   "cell_type": "markdown",
   "metadata": {
    "id": "Jh1VgQDNtVJK"
   },
   "source": [
    "스케일이 완료된 column으로 새로운 데이터프레임을 생성합니다.\n",
    "\n",
    "**시간 순으로 정렬**되어 있으며, datetime index는 제외했습니다.\n",
    "\n",
    "*6,000개의 row, 5개 column*으로 이루어진 데이터셋이 DataFrame으로 정리되었습니다."
   ]
  },
  {
   "cell_type": "code",
   "execution_count": 28,
   "metadata": {
    "ExecuteTime": {
     "end_time": "2023-02-24T06:02:34.728266Z",
     "start_time": "2023-02-24T06:02:34.715445Z"
    },
    "id": "dIJjE21B0l5m"
   },
   "outputs": [],
   "source": [
    "df = pd.DataFrame(scaled, columns=scale_cols)"
   ]
  },
  {
   "cell_type": "code",
   "execution_count": 29,
   "metadata": {
    "ExecuteTime": {
     "end_time": "2023-02-24T06:02:38.276672Z",
     "start_time": "2023-02-24T06:02:38.269904Z"
    }
   },
   "outputs": [
    {
     "data": {
      "text/html": [
       "<div>\n",
       "<style scoped>\n",
       "    .dataframe tbody tr th:only-of-type {\n",
       "        vertical-align: middle;\n",
       "    }\n",
       "\n",
       "    .dataframe tbody tr th {\n",
       "        vertical-align: top;\n",
       "    }\n",
       "\n",
       "    .dataframe thead th {\n",
       "        text-align: right;\n",
       "    }\n",
       "</style>\n",
       "<table border=\"1\" class=\"dataframe\">\n",
       "  <thead>\n",
       "    <tr style=\"text-align: right;\">\n",
       "      <th></th>\n",
       "      <th>Open</th>\n",
       "      <th>High</th>\n",
       "      <th>Low</th>\n",
       "      <th>Close</th>\n",
       "      <th>Volume</th>\n",
       "    </tr>\n",
       "  </thead>\n",
       "  <tbody>\n",
       "    <tr>\n",
       "      <th>0</th>\n",
       "      <td>0.012724</td>\n",
       "      <td>0.012459</td>\n",
       "      <td>0.012670</td>\n",
       "      <td>0.000000</td>\n",
       "      <td>0.009917</td>\n",
       "    </tr>\n",
       "    <tr>\n",
       "      <th>1</th>\n",
       "      <td>0.013234</td>\n",
       "      <td>0.013017</td>\n",
       "      <td>0.013352</td>\n",
       "      <td>0.000902</td>\n",
       "      <td>0.008684</td>\n",
       "    </tr>\n",
       "    <tr>\n",
       "      <th>2</th>\n",
       "      <td>0.014097</td>\n",
       "      <td>0.013450</td>\n",
       "      <td>0.013799</td>\n",
       "      <td>0.001347</td>\n",
       "      <td>0.011481</td>\n",
       "    </tr>\n",
       "    <tr>\n",
       "      <th>3</th>\n",
       "      <td>0.014817</td>\n",
       "      <td>0.013822</td>\n",
       "      <td>0.014458</td>\n",
       "      <td>0.001369</td>\n",
       "      <td>0.010235</td>\n",
       "    </tr>\n",
       "    <tr>\n",
       "      <th>4</th>\n",
       "      <td>0.014352</td>\n",
       "      <td>0.013450</td>\n",
       "      <td>0.014145</td>\n",
       "      <td>0.001202</td>\n",
       "      <td>0.009379</td>\n",
       "    </tr>\n",
       "    <tr>\n",
       "      <th>...</th>\n",
       "      <td>...</td>\n",
       "      <td>...</td>\n",
       "      <td>...</td>\n",
       "      <td>...</td>\n",
       "      <td>...</td>\n",
       "    </tr>\n",
       "    <tr>\n",
       "      <th>5995</th>\n",
       "      <td>0.696567</td>\n",
       "      <td>0.650826</td>\n",
       "      <td>0.690503</td>\n",
       "      <td>0.684946</td>\n",
       "      <td>0.142937</td>\n",
       "    </tr>\n",
       "    <tr>\n",
       "      <th>5996</th>\n",
       "      <td>0.694352</td>\n",
       "      <td>0.648760</td>\n",
       "      <td>0.692737</td>\n",
       "      <td>0.678267</td>\n",
       "      <td>0.084878</td>\n",
       "    </tr>\n",
       "    <tr>\n",
       "      <th>5997</th>\n",
       "      <td>0.681063</td>\n",
       "      <td>0.638430</td>\n",
       "      <td>0.681564</td>\n",
       "      <td>0.667134</td>\n",
       "      <td>0.132428</td>\n",
       "    </tr>\n",
       "    <tr>\n",
       "      <th>5998</th>\n",
       "      <td>0.683278</td>\n",
       "      <td>0.645661</td>\n",
       "      <td>0.687151</td>\n",
       "      <td>0.677154</td>\n",
       "      <td>0.144476</td>\n",
       "    </tr>\n",
       "    <tr>\n",
       "      <th>5999</th>\n",
       "      <td>0.689922</td>\n",
       "      <td>0.646694</td>\n",
       "      <td>0.687151</td>\n",
       "      <td>0.672701</td>\n",
       "      <td>0.095582</td>\n",
       "    </tr>\n",
       "  </tbody>\n",
       "</table>\n",
       "<p>6000 rows × 5 columns</p>\n",
       "</div>"
      ],
      "text/plain": [
       "          Open      High       Low     Close    Volume\n",
       "0     0.012724  0.012459  0.012670  0.000000  0.009917\n",
       "1     0.013234  0.013017  0.013352  0.000902  0.008684\n",
       "2     0.014097  0.013450  0.013799  0.001347  0.011481\n",
       "3     0.014817  0.013822  0.014458  0.001369  0.010235\n",
       "4     0.014352  0.013450  0.014145  0.001202  0.009379\n",
       "...        ...       ...       ...       ...       ...\n",
       "5995  0.696567  0.650826  0.690503  0.684946  0.142937\n",
       "5996  0.694352  0.648760  0.692737  0.678267  0.084878\n",
       "5997  0.681063  0.638430  0.681564  0.667134  0.132428\n",
       "5998  0.683278  0.645661  0.687151  0.677154  0.144476\n",
       "5999  0.689922  0.646694  0.687151  0.672701  0.095582\n",
       "\n",
       "[6000 rows x 5 columns]"
      ]
     },
     "execution_count": 29,
     "metadata": {},
     "output_type": "execute_result"
    }
   ],
   "source": [
    "df"
   ]
  },
  {
   "cell_type": "markdown",
   "metadata": {
    "id": "dgNigD8WtVJK"
   },
   "source": [
    "## train / test 분할"
   ]
  },
  {
   "cell_type": "code",
   "execution_count": 30,
   "metadata": {
    "ExecuteTime": {
     "end_time": "2023-02-24T06:02:49.047321Z",
     "start_time": "2023-02-24T06:02:48.964926Z"
    },
    "id": "ENRgjSYItVJK"
   },
   "outputs": [],
   "source": [
    "from sklearn.model_selection import train_test_split"
   ]
  },
  {
   "cell_type": "code",
   "execution_count": 31,
   "metadata": {
    "ExecuteTime": {
     "end_time": "2023-02-24T06:02:50.413037Z",
     "start_time": "2023-02-24T06:02:50.401897Z"
    },
    "id": "M6v0n_ijtVJK"
   },
   "outputs": [],
   "source": [
    "x_train, x_test, y_train, y_test = train_test_split(df.drop('Close', 1), df['Close'], test_size=0.2, random_state=0, shuffle=False)"
   ]
  },
  {
   "cell_type": "code",
   "execution_count": 32,
   "metadata": {
    "ExecuteTime": {
     "end_time": "2023-02-24T06:03:03.536976Z",
     "start_time": "2023-02-24T06:03:03.525493Z"
    },
    "id": "0iAHf8NOtVJK",
    "outputId": "62f4dcc0-40ad-4423-d093-545202b819d9"
   },
   "outputs": [
    {
     "data": {
      "text/plain": [
       "((4800, 4), (4800,))"
      ]
     },
     "execution_count": 32,
     "metadata": {},
     "output_type": "execute_result"
    }
   ],
   "source": [
    "x_train.shape, y_train.shape"
   ]
  },
  {
   "cell_type": "code",
   "execution_count": 33,
   "metadata": {
    "ExecuteTime": {
     "end_time": "2023-02-24T06:03:05.641783Z",
     "start_time": "2023-02-24T06:03:05.625494Z"
    },
    "id": "nCDFjaLftVJL",
    "outputId": "9daf799d-3ed2-4af4-d783-478081d1df09"
   },
   "outputs": [
    {
     "data": {
      "text/plain": [
       "((1200, 4), (1200,))"
      ]
     },
     "execution_count": 33,
     "metadata": {},
     "output_type": "execute_result"
    }
   ],
   "source": [
    "x_test.shape, y_test.shape"
   ]
  },
  {
   "cell_type": "code",
   "execution_count": 34,
   "metadata": {
    "ExecuteTime": {
     "end_time": "2023-02-24T06:03:07.623355Z",
     "start_time": "2023-02-24T06:03:07.606430Z"
    },
    "id": "TbJepUuQtVJL",
    "outputId": "260878eb-0415-4edb-d723-fa695f2923d7"
   },
   "outputs": [
    {
     "data": {
      "text/html": [
       "<div>\n",
       "<style scoped>\n",
       "    .dataframe tbody tr th:only-of-type {\n",
       "        vertical-align: middle;\n",
       "    }\n",
       "\n",
       "    .dataframe tbody tr th {\n",
       "        vertical-align: top;\n",
       "    }\n",
       "\n",
       "    .dataframe thead th {\n",
       "        text-align: right;\n",
       "    }\n",
       "</style>\n",
       "<table border=\"1\" class=\"dataframe\">\n",
       "  <thead>\n",
       "    <tr style=\"text-align: right;\">\n",
       "      <th></th>\n",
       "      <th>Open</th>\n",
       "      <th>High</th>\n",
       "      <th>Low</th>\n",
       "      <th>Volume</th>\n",
       "    </tr>\n",
       "  </thead>\n",
       "  <tbody>\n",
       "    <tr>\n",
       "      <th>0</th>\n",
       "      <td>0.012724</td>\n",
       "      <td>0.012459</td>\n",
       "      <td>0.012670</td>\n",
       "      <td>0.009917</td>\n",
       "    </tr>\n",
       "    <tr>\n",
       "      <th>1</th>\n",
       "      <td>0.013234</td>\n",
       "      <td>0.013017</td>\n",
       "      <td>0.013352</td>\n",
       "      <td>0.008684</td>\n",
       "    </tr>\n",
       "    <tr>\n",
       "      <th>2</th>\n",
       "      <td>0.014097</td>\n",
       "      <td>0.013450</td>\n",
       "      <td>0.013799</td>\n",
       "      <td>0.011481</td>\n",
       "    </tr>\n",
       "    <tr>\n",
       "      <th>3</th>\n",
       "      <td>0.014817</td>\n",
       "      <td>0.013822</td>\n",
       "      <td>0.014458</td>\n",
       "      <td>0.010235</td>\n",
       "    </tr>\n",
       "    <tr>\n",
       "      <th>4</th>\n",
       "      <td>0.014352</td>\n",
       "      <td>0.013450</td>\n",
       "      <td>0.014145</td>\n",
       "      <td>0.009379</td>\n",
       "    </tr>\n",
       "    <tr>\n",
       "      <th>...</th>\n",
       "      <td>...</td>\n",
       "      <td>...</td>\n",
       "      <td>...</td>\n",
       "      <td>...</td>\n",
       "    </tr>\n",
       "    <tr>\n",
       "      <th>4795</th>\n",
       "      <td>0.531561</td>\n",
       "      <td>0.501860</td>\n",
       "      <td>0.529609</td>\n",
       "      <td>0.002776</td>\n",
       "    </tr>\n",
       "    <tr>\n",
       "      <th>4796</th>\n",
       "      <td>0.534441</td>\n",
       "      <td>0.510744</td>\n",
       "      <td>0.538547</td>\n",
       "      <td>0.002204</td>\n",
       "    </tr>\n",
       "    <tr>\n",
       "      <th>4797</th>\n",
       "      <td>0.537542</td>\n",
       "      <td>0.508471</td>\n",
       "      <td>0.536760</td>\n",
       "      <td>0.002433</td>\n",
       "    </tr>\n",
       "    <tr>\n",
       "      <th>4798</th>\n",
       "      <td>0.552602</td>\n",
       "      <td>0.515496</td>\n",
       "      <td>0.543017</td>\n",
       "      <td>0.002226</td>\n",
       "    </tr>\n",
       "    <tr>\n",
       "      <th>4799</th>\n",
       "      <td>0.547508</td>\n",
       "      <td>0.510744</td>\n",
       "      <td>0.546145</td>\n",
       "      <td>0.002761</td>\n",
       "    </tr>\n",
       "  </tbody>\n",
       "</table>\n",
       "<p>4800 rows × 4 columns</p>\n",
       "</div>"
      ],
      "text/plain": [
       "          Open      High       Low    Volume\n",
       "0     0.012724  0.012459  0.012670  0.009917\n",
       "1     0.013234  0.013017  0.013352  0.008684\n",
       "2     0.014097  0.013450  0.013799  0.011481\n",
       "3     0.014817  0.013822  0.014458  0.010235\n",
       "4     0.014352  0.013450  0.014145  0.009379\n",
       "...        ...       ...       ...       ...\n",
       "4795  0.531561  0.501860  0.529609  0.002776\n",
       "4796  0.534441  0.510744  0.538547  0.002204\n",
       "4797  0.537542  0.508471  0.536760  0.002433\n",
       "4798  0.552602  0.515496  0.543017  0.002226\n",
       "4799  0.547508  0.510744  0.546145  0.002761\n",
       "\n",
       "[4800 rows x 4 columns]"
      ]
     },
     "execution_count": 34,
     "metadata": {},
     "output_type": "execute_result"
    }
   ],
   "source": [
    "x_train"
   ]
  },
  {
   "cell_type": "markdown",
   "metadata": {
    "id": "mF4eJwEOtVJL"
   },
   "source": [
    "## TensroFlow Dataset을 활용한 시퀀스 데이터셋 구성"
   ]
  },
  {
   "cell_type": "code",
   "execution_count": 35,
   "metadata": {
    "ExecuteTime": {
     "end_time": "2023-02-24T06:03:11.983049Z",
     "start_time": "2023-02-24T06:03:09.867815Z"
    },
    "id": "kJt_sv1NtVJL"
   },
   "outputs": [],
   "source": [
    "import tensorflow as tf"
   ]
  },
  {
   "cell_type": "code",
   "execution_count": 36,
   "metadata": {
    "ExecuteTime": {
     "end_time": "2023-02-24T06:03:16.437485Z",
     "start_time": "2023-02-24T06:03:16.432074Z"
    },
    "id": "vRJJ1LyxtVJL"
   },
   "outputs": [],
   "source": [
    "\"\"\"\n",
    "    serise 텐서의 끝에 새로운 차원을 추가합니다.\n",
    "    주어진 데이터셋을 윈도우로 분할합니다.\n",
    "    윈도우의 마지막 원소가 예측하려는 값으로, window_size+1\n",
    "    데이터셋을 윈도우 크기가 window_size+1의 배치로 변환하고,\n",
    "    이러한 배치 데이터셋을 일렬로 연결하여 하나의 데이터셋을 생성합니다.\n",
    "\n",
    "\"\"\"\n",
    "def windowed_dataset(series, window_size, batch_size, shuffle):\n",
    "    series = tf.expand_dims(series, axis=-1)\n",
    "    ds = tf.data.Dataset.from_tensor_slices(series)  \n",
    "    ds = ds.window(window_size + 1, shift=1, drop_remainder=True)\n",
    "    ds = ds.flat_map(lambda w: w.batch(window_size + 1))\n",
    "    if shuffle:\n",
    "        ds = ds.shuffle(1000)\n",
    "    ds = ds.map(lambda w: (w[:-1], w[-1]))\n",
    "    return ds.batch(batch_size).prefetch(1)"
   ]
  },
  {
   "cell_type": "markdown",
   "metadata": {
    "id": "q6Wp2SCMtVJL"
   },
   "source": [
    "Hyperparameter를 정의합니다."
   ]
  },
  {
   "cell_type": "code",
   "execution_count": 37,
   "metadata": {
    "ExecuteTime": {
     "end_time": "2023-02-24T06:03:17.833333Z",
     "start_time": "2023-02-24T06:03:17.815736Z"
    },
    "id": "aajEFqZ3tVJL"
   },
   "outputs": [],
   "source": [
    "WINDOW_SIZE=20\n",
    "BATCH_SIZE=32"
   ]
  },
  {
   "cell_type": "code",
   "execution_count": 38,
   "metadata": {
    "ExecuteTime": {
     "end_time": "2023-02-24T06:03:20.655131Z",
     "start_time": "2023-02-24T06:03:18.377746Z"
    },
    "id": "bToqE0EGtVJL"
   },
   "outputs": [],
   "source": [
    "# trian_data는 학습용 데이터셋, test_data는 검증용 데이터셋 입니다.\n",
    "train_data = windowed_dataset(y_train, WINDOW_SIZE, BATCH_SIZE, True)\n",
    "test_data = windowed_dataset(y_test, WINDOW_SIZE, BATCH_SIZE, False)"
   ]
  },
  {
   "cell_type": "code",
   "execution_count": 39,
   "metadata": {
    "ExecuteTime": {
     "end_time": "2023-02-24T06:03:22.604628Z",
     "start_time": "2023-02-24T06:03:22.471366Z"
    },
    "id": "eXQSTQshtVJL",
    "outputId": "004191cd-2d71-4530-f9af-cfda0f52fe59"
   },
   "outputs": [
    {
     "name": "stdout",
     "output_type": "stream",
     "text": [
      "데이터셋(X) 구성(batch_size, window_size, feature갯수): (32, 20, 1)\n",
      "데이터셋(Y) 구성(batch_size, window_size, feature갯수): (32, 1)\n"
     ]
    }
   ],
   "source": [
    "# 아래의 코드로 데이터셋의 구성을 확인해 볼 수 있습니다.\n",
    "# X: (batch_size, window_size, feature)\n",
    "# Y: (batch_size, feature)\n",
    "for data in train_data.take(1):\n",
    "    print(f'데이터셋(X) 구성(batch_size, window_size, feature갯수): {data[0].shape}')\n",
    "    print(f'데이터셋(Y) 구성(batch_size, feature갯수): {data[1].shape}')"
   ]
  },
  {
   "cell_type": "markdown",
   "metadata": {
    "id": "-9ZZBqUXtVJL"
   },
   "source": [
    "## 모델"
   ]
  },
  {
   "cell_type": "code",
   "execution_count": 40,
   "metadata": {
    "ExecuteTime": {
     "end_time": "2023-02-24T06:03:24.965509Z",
     "start_time": "2023-02-24T06:03:24.756409Z"
    },
    "id": "mAkmGu1j0l8M"
   },
   "outputs": [],
   "source": [
    "from tensorflow.keras.models import Sequential\n",
    "from tensorflow.keras.layers import Dense, LSTM, Conv1D, Lambda\n",
    "from tensorflow.keras.losses import Huber\n",
    "from tensorflow.keras.optimizers import Adam\n",
    "from tensorflow.keras.callbacks import EarlyStopping, ModelCheckpoint\n",
    "\n",
    "\n",
    "model = Sequential([\n",
    "    # 1차원 feature map 생성\n",
    "    Conv1D(filters=32, kernel_size=5,\n",
    "           padding=\"causal\",\n",
    "           activation=\"relu\",\n",
    "           input_shape=[WINDOW_SIZE, 1]),\n",
    "    # LSTM\n",
    "    LSTM(16, activation='tanh'),\n",
    "    Dense(16, activation=\"relu\"),\n",
    "    Dense(1),\n",
    "])"
   ]
  },
  {
   "cell_type": "code",
   "execution_count": 41,
   "metadata": {
    "ExecuteTime": {
     "end_time": "2023-02-24T06:03:33.749364Z",
     "start_time": "2023-02-24T06:03:33.728798Z"
    },
    "id": "xShll_EX0l8T"
   },
   "outputs": [],
   "source": [
    "# Sequence 학습에 비교적 좋은 퍼포먼스를 내는 Huber()를 사용합니다.\n",
    "loss = Huber()\n",
    "optimizer = Adam(0.0005)\n",
    "model.compile(loss=Huber(), optimizer=optimizer, metrics=['mse'])"
   ]
  },
  {
   "cell_type": "code",
   "execution_count": 42,
   "metadata": {
    "ExecuteTime": {
     "end_time": "2023-02-24T06:03:38.512540Z",
     "start_time": "2023-02-24T06:03:38.498082Z"
    },
    "id": "IN_cNppHtVJM"
   },
   "outputs": [],
   "source": [
    "# earlystopping은 10번 epoch통안 val_loss 개선이 없다면 학습을 멈춥니다.\n",
    "earlystopping = EarlyStopping(monitor='val_loss', patience=10)\n",
    "# val_loss 기준 체크포인터도 생성합니다.\n",
    "filename = os.path.join('tmp', 'ckeckpointer.ckpt')\n",
    "checkpoint = ModelCheckpoint(filename, \n",
    "                             save_weights_only=True, \n",
    "                             save_best_only=True, \n",
    "                             monitor='val_loss', \n",
    "                             verbose=1)"
   ]
  },
  {
   "cell_type": "code",
   "execution_count": 43,
   "metadata": {
    "ExecuteTime": {
     "end_time": "2023-02-24T06:04:09.332158Z",
     "start_time": "2023-02-24T06:03:40.008757Z"
    },
    "colab": {
     "base_uri": "https://localhost:8080/",
     "height": 1000
    },
    "id": "pJHtEuzmtVJM",
    "outputId": "522fff00-b86d-4866-fd81-5bc705d751c2"
   },
   "outputs": [
    {
     "name": "stdout",
     "output_type": "stream",
     "text": [
      "Epoch 1/50\n",
      "    143/Unknown - 6s 4ms/step - loss: 3.6507e-04 - mse: 7.3014e-04\n",
      "Epoch 1: val_loss improved from inf to 0.00332, saving model to tmp\\ckeckpointer.ckpt\n",
      "150/150 [==============================] - 7s 10ms/step - loss: 3.5298e-04 - mse: 7.0596e-04 - val_loss: 0.0033 - val_mse: 0.0066\n",
      "Epoch 2/50\n",
      "148/150 [============================>.] - ETA: 0s - loss: 4.4218e-05 - mse: 8.8436e-05\n",
      "Epoch 2: val_loss improved from 0.00332 to 0.00253, saving model to tmp\\ckeckpointer.ckpt\n",
      "150/150 [==============================] - 1s 4ms/step - loss: 4.4645e-05 - mse: 8.9291e-05 - val_loss: 0.0025 - val_mse: 0.0051\n",
      "Epoch 3/50\n",
      "146/150 [============================>.] - ETA: 0s - loss: 4.1825e-05 - mse: 8.3649e-05\n",
      "Epoch 3: val_loss improved from 0.00253 to 0.00248, saving model to tmp\\ckeckpointer.ckpt\n",
      "150/150 [==============================] - 1s 3ms/step - loss: 4.2877e-05 - mse: 8.5753e-05 - val_loss: 0.0025 - val_mse: 0.0050\n",
      "Epoch 4/50\n",
      "146/150 [============================>.] - ETA: 0s - loss: 3.6569e-05 - mse: 7.3137e-05\n",
      "Epoch 4: val_loss improved from 0.00248 to 0.00228, saving model to tmp\\ckeckpointer.ckpt\n",
      "150/150 [==============================] - 1s 3ms/step - loss: 3.8185e-05 - mse: 7.6370e-05 - val_loss: 0.0023 - val_mse: 0.0046\n",
      "Epoch 5/50\n",
      "133/150 [=========================>....] - ETA: 0s - loss: 3.0237e-05 - mse: 6.0474e-05\n",
      "Epoch 5: val_loss improved from 0.00228 to 0.00227, saving model to tmp\\ckeckpointer.ckpt\n",
      "150/150 [==============================] - 1s 3ms/step - loss: 3.5118e-05 - mse: 7.0237e-05 - val_loss: 0.0023 - val_mse: 0.0045\n",
      "Epoch 6/50\n",
      "134/150 [=========================>....] - ETA: 0s - loss: 2.9397e-05 - mse: 5.8795e-05\n",
      "Epoch 6: val_loss improved from 0.00227 to 0.00174, saving model to tmp\\ckeckpointer.ckpt\n",
      "150/150 [==============================] - 1s 3ms/step - loss: 3.5636e-05 - mse: 7.1272e-05 - val_loss: 0.0017 - val_mse: 0.0035\n",
      "Epoch 7/50\n",
      "135/150 [==========================>...] - ETA: 0s - loss: 2.6691e-05 - mse: 5.3383e-05\n",
      "Epoch 7: val_loss did not improve from 0.00174\n",
      "150/150 [==============================] - 0s 3ms/step - loss: 3.2382e-05 - mse: 6.4765e-05 - val_loss: 0.0020 - val_mse: 0.0040\n",
      "Epoch 8/50\n",
      "139/150 [==========================>...] - ETA: 0s - loss: 3.1025e-05 - mse: 6.2050e-05\n",
      "Epoch 8: val_loss improved from 0.00174 to 0.00161, saving model to tmp\\ckeckpointer.ckpt\n",
      "150/150 [==============================] - 1s 3ms/step - loss: 3.3149e-05 - mse: 6.6298e-05 - val_loss: 0.0016 - val_mse: 0.0032\n",
      "Epoch 9/50\n",
      "136/150 [==========================>...] - ETA: 0s - loss: 2.7972e-05 - mse: 5.5943e-05\n",
      "Epoch 9: val_loss improved from 0.00161 to 0.00083, saving model to tmp\\ckeckpointer.ckpt\n",
      "150/150 [==============================] - 1s 3ms/step - loss: 3.0650e-05 - mse: 6.1300e-05 - val_loss: 8.3147e-04 - val_mse: 0.0017\n",
      "Epoch 10/50\n",
      "132/150 [=========================>....] - ETA: 0s - loss: 2.5444e-05 - mse: 5.0887e-05\n",
      "Epoch 10: val_loss improved from 0.00083 to 0.00063, saving model to tmp\\ckeckpointer.ckpt\n",
      "150/150 [==============================] - 1s 4ms/step - loss: 3.2071e-05 - mse: 6.4143e-05 - val_loss: 6.2682e-04 - val_mse: 0.0013\n",
      "Epoch 11/50\n",
      "135/150 [==========================>...] - ETA: 0s - loss: 2.5687e-05 - mse: 5.1374e-05\n",
      "Epoch 11: val_loss did not improve from 0.00063\n",
      "150/150 [==============================] - 1s 3ms/step - loss: 2.9343e-05 - mse: 5.8686e-05 - val_loss: 8.1565e-04 - val_mse: 0.0016\n",
      "Epoch 12/50\n",
      "136/150 [==========================>...] - ETA: 0s - loss: 2.5889e-05 - mse: 5.1777e-05\n",
      "Epoch 12: val_loss improved from 0.00063 to 0.00061, saving model to tmp\\ckeckpointer.ckpt\n",
      "150/150 [==============================] - 1s 3ms/step - loss: 3.0316e-05 - mse: 6.0633e-05 - val_loss: 6.1342e-04 - val_mse: 0.0012\n",
      "Epoch 13/50\n",
      "137/150 [==========================>...] - ETA: 0s - loss: 2.4149e-05 - mse: 4.8299e-05\n",
      "Epoch 13: val_loss did not improve from 0.00061\n",
      "150/150 [==============================] - 0s 3ms/step - loss: 2.8247e-05 - mse: 5.6495e-05 - val_loss: 6.2015e-04 - val_mse: 0.0012\n",
      "Epoch 14/50\n",
      "138/150 [==========================>...] - ETA: 0s - loss: 2.2898e-05 - mse: 4.5796e-05\n",
      "Epoch 14: val_loss did not improve from 0.00061\n",
      "150/150 [==============================] - 0s 3ms/step - loss: 2.6171e-05 - mse: 5.2342e-05 - val_loss: 7.3938e-04 - val_mse: 0.0015\n",
      "Epoch 15/50\n",
      "139/150 [==========================>...] - ETA: 0s - loss: 2.3581e-05 - mse: 4.7163e-05\n",
      "Epoch 15: val_loss did not improve from 0.00061\n",
      "150/150 [==============================] - 0s 3ms/step - loss: 2.6263e-05 - mse: 5.2527e-05 - val_loss: 7.6241e-04 - val_mse: 0.0015\n",
      "Epoch 16/50\n",
      "135/150 [==========================>...] - ETA: 0s - loss: 2.2074e-05 - mse: 4.4148e-05\n",
      "Epoch 16: val_loss did not improve from 0.00061\n",
      "150/150 [==============================] - 0s 3ms/step - loss: 2.5321e-05 - mse: 5.0642e-05 - val_loss: 6.5523e-04 - val_mse: 0.0013\n",
      "Epoch 17/50\n",
      "136/150 [==========================>...] - ETA: 0s - loss: 2.1822e-05 - mse: 4.3645e-05\n",
      "Epoch 17: val_loss did not improve from 0.00061\n",
      "150/150 [==============================] - 0s 3ms/step - loss: 2.5907e-05 - mse: 5.1814e-05 - val_loss: 6.1867e-04 - val_mse: 0.0012\n",
      "Epoch 18/50\n",
      "137/150 [==========================>...] - ETA: 0s - loss: 2.1683e-05 - mse: 4.3367e-05\n",
      "Epoch 18: val_loss improved from 0.00061 to 0.00044, saving model to tmp\\ckeckpointer.ckpt\n",
      "150/150 [==============================] - 1s 3ms/step - loss: 2.4186e-05 - mse: 4.8373e-05 - val_loss: 4.3620e-04 - val_mse: 8.7240e-04\n",
      "Epoch 19/50\n",
      "136/150 [==========================>...] - ETA: 0s - loss: 2.0280e-05 - mse: 4.0561e-05\n",
      "Epoch 19: val_loss did not improve from 0.00044\n",
      "150/150 [==============================] - 0s 3ms/step - loss: 2.4181e-05 - mse: 4.8362e-05 - val_loss: 6.2035e-04 - val_mse: 0.0012\n",
      "Epoch 20/50\n",
      "138/150 [==========================>...] - ETA: 0s - loss: 2.1147e-05 - mse: 4.2293e-05\n",
      "Epoch 20: val_loss did not improve from 0.00044\n",
      "150/150 [==============================] - 0s 3ms/step - loss: 2.2949e-05 - mse: 4.5898e-05 - val_loss: 7.4304e-04 - val_mse: 0.0015\n",
      "Epoch 21/50\n",
      "133/150 [=========================>....] - ETA: 0s - loss: 1.9369e-05 - mse: 3.8738e-05\n",
      "Epoch 21: val_loss did not improve from 0.00044\n",
      "150/150 [==============================] - 1s 3ms/step - loss: 2.2565e-05 - mse: 4.5130e-05 - val_loss: 7.0082e-04 - val_mse: 0.0014\n",
      "Epoch 22/50\n",
      "136/150 [==========================>...] - ETA: 0s - loss: 1.8089e-05 - mse: 3.6178e-05\n",
      "Epoch 22: val_loss did not improve from 0.00044\n",
      "150/150 [==============================] - 0s 3ms/step - loss: 2.1140e-05 - mse: 4.2280e-05 - val_loss: 5.0899e-04 - val_mse: 0.0010\n",
      "Epoch 23/50\n",
      "136/150 [==========================>...] - ETA: 0s - loss: 1.9164e-05 - mse: 3.8328e-05\n",
      "Epoch 23: val_loss improved from 0.00044 to 0.00038, saving model to tmp\\ckeckpointer.ckpt\n",
      "150/150 [==============================] - 1s 3ms/step - loss: 2.1549e-05 - mse: 4.3098e-05 - val_loss: 3.8368e-04 - val_mse: 7.6735e-04\n",
      "Epoch 24/50\n",
      "138/150 [==========================>...] - ETA: 0s - loss: 1.9656e-05 - mse: 3.9312e-05\n",
      "Epoch 24: val_loss did not improve from 0.00038\n",
      "150/150 [==============================] - 0s 3ms/step - loss: 2.1758e-05 - mse: 4.3515e-05 - val_loss: 5.6821e-04 - val_mse: 0.0011\n",
      "Epoch 25/50\n",
      "136/150 [==========================>...] - ETA: 0s - loss: 1.8178e-05 - mse: 3.6356e-05\n",
      "Epoch 25: val_loss improved from 0.00038 to 0.00038, saving model to tmp\\ckeckpointer.ckpt\n",
      "150/150 [==============================] - 1s 3ms/step - loss: 2.0135e-05 - mse: 4.0271e-05 - val_loss: 3.7618e-04 - val_mse: 7.5236e-04\n",
      "Epoch 26/50\n",
      "136/150 [==========================>...] - ETA: 0s - loss: 1.6084e-05 - mse: 3.2168e-05\n",
      "Epoch 26: val_loss did not improve from 0.00038\n",
      "150/150 [==============================] - 0s 3ms/step - loss: 1.8692e-05 - mse: 3.7383e-05 - val_loss: 4.8515e-04 - val_mse: 9.7030e-04\n",
      "Epoch 27/50\n",
      "137/150 [==========================>...] - ETA: 0s - loss: 1.8052e-05 - mse: 3.6104e-05\n",
      "Epoch 27: val_loss did not improve from 0.00038\n",
      "150/150 [==============================] - 0s 3ms/step - loss: 1.9816e-05 - mse: 3.9633e-05 - val_loss: 5.7585e-04 - val_mse: 0.0012\n",
      "Epoch 28/50\n",
      "139/150 [==========================>...] - ETA: 0s - loss: 1.8382e-05 - mse: 3.6765e-05\n",
      "Epoch 28: val_loss did not improve from 0.00038\n"
     ]
    },
    {
     "name": "stdout",
     "output_type": "stream",
     "text": [
      "150/150 [==============================] - 0s 3ms/step - loss: 2.0250e-05 - mse: 4.0500e-05 - val_loss: 4.7529e-04 - val_mse: 9.5057e-04\n",
      "Epoch 29/50\n",
      "139/150 [==========================>...] - ETA: 0s - loss: 1.7622e-05 - mse: 3.5243e-05\n",
      "Epoch 29: val_loss did not improve from 0.00038\n",
      "150/150 [==============================] - 0s 3ms/step - loss: 2.0177e-05 - mse: 4.0354e-05 - val_loss: 5.3882e-04 - val_mse: 0.0011\n",
      "Epoch 30/50\n",
      "141/150 [===========================>..] - ETA: 0s - loss: 1.8815e-05 - mse: 3.7631e-05\n",
      "Epoch 30: val_loss did not improve from 0.00038\n",
      "150/150 [==============================] - 0s 3ms/step - loss: 1.9667e-05 - mse: 3.9333e-05 - val_loss: 7.3508e-04 - val_mse: 0.0015\n",
      "Epoch 31/50\n",
      "139/150 [==========================>...] - ETA: 0s - loss: 1.4902e-05 - mse: 2.9804e-05\n",
      "Epoch 31: val_loss did not improve from 0.00038\n",
      "150/150 [==============================] - 0s 3ms/step - loss: 1.6504e-05 - mse: 3.3009e-05 - val_loss: 7.9757e-04 - val_mse: 0.0016\n",
      "Epoch 32/50\n",
      "137/150 [==========================>...] - ETA: 0s - loss: 1.4557e-05 - mse: 2.9113e-05\n",
      "Epoch 32: val_loss did not improve from 0.00038\n",
      "150/150 [==============================] - 0s 3ms/step - loss: 1.6387e-05 - mse: 3.2775e-05 - val_loss: 4.6811e-04 - val_mse: 9.3622e-04\n",
      "Epoch 33/50\n",
      "138/150 [==========================>...] - ETA: 0s - loss: 1.6004e-05 - mse: 3.2007e-05\n",
      "Epoch 33: val_loss did not improve from 0.00038\n",
      "150/150 [==============================] - 0s 3ms/step - loss: 1.8199e-05 - mse: 3.6399e-05 - val_loss: 0.0010 - val_mse: 0.0020\n",
      "Epoch 34/50\n",
      "136/150 [==========================>...] - ETA: 0s - loss: 1.5631e-05 - mse: 3.1263e-05\n",
      "Epoch 34: val_loss improved from 0.00038 to 0.00025, saving model to tmp\\ckeckpointer.ckpt\n",
      "150/150 [==============================] - 1s 3ms/step - loss: 1.7915e-05 - mse: 3.5831e-05 - val_loss: 2.5163e-04 - val_mse: 5.0325e-04\n",
      "Epoch 35/50\n",
      "134/150 [=========================>....] - ETA: 0s - loss: 1.4675e-05 - mse: 2.9350e-05\n",
      "Epoch 35: val_loss improved from 0.00025 to 0.00021, saving model to tmp\\ckeckpointer.ckpt\n",
      "150/150 [==============================] - 1s 3ms/step - loss: 1.6857e-05 - mse: 3.3714e-05 - val_loss: 2.0833e-04 - val_mse: 4.1666e-04\n",
      "Epoch 36/50\n",
      "138/150 [==========================>...] - ETA: 0s - loss: 1.5170e-05 - mse: 3.0340e-05\n",
      "Epoch 36: val_loss did not improve from 0.00021\n",
      "150/150 [==============================] - 0s 3ms/step - loss: 1.6689e-05 - mse: 3.3379e-05 - val_loss: 2.2241e-04 - val_mse: 4.4482e-04\n",
      "Epoch 37/50\n",
      "138/150 [==========================>...] - ETA: 0s - loss: 1.4082e-05 - mse: 2.8164e-05\n",
      "Epoch 37: val_loss did not improve from 0.00021\n",
      "150/150 [==============================] - 0s 3ms/step - loss: 1.6686e-05 - mse: 3.3372e-05 - val_loss: 4.3317e-04 - val_mse: 8.6635e-04\n",
      "Epoch 38/50\n",
      "136/150 [==========================>...] - ETA: 0s - loss: 1.4548e-05 - mse: 2.9095e-05\n",
      "Epoch 38: val_loss did not improve from 0.00021\n",
      "150/150 [==============================] - 0s 3ms/step - loss: 1.6545e-05 - mse: 3.3091e-05 - val_loss: 3.7022e-04 - val_mse: 7.4043e-04\n",
      "Epoch 39/50\n",
      "139/150 [==========================>...] - ETA: 0s - loss: 1.3492e-05 - mse: 2.6985e-05\n",
      "Epoch 39: val_loss did not improve from 0.00021\n",
      "150/150 [==============================] - 0s 3ms/step - loss: 1.4679e-05 - mse: 2.9359e-05 - val_loss: 3.1460e-04 - val_mse: 6.2919e-04\n",
      "Epoch 40/50\n",
      "139/150 [==========================>...] - ETA: 0s - loss: 1.3966e-05 - mse: 2.7933e-05\n",
      "Epoch 40: val_loss did not improve from 0.00021\n",
      "150/150 [==============================] - 0s 3ms/step - loss: 1.5726e-05 - mse: 3.1453e-05 - val_loss: 4.1664e-04 - val_mse: 8.3327e-04\n",
      "Epoch 41/50\n",
      "136/150 [==========================>...] - ETA: 0s - loss: 1.2696e-05 - mse: 2.5391e-05\n",
      "Epoch 41: val_loss did not improve from 0.00021\n",
      "150/150 [==============================] - 0s 3ms/step - loss: 1.4433e-05 - mse: 2.8867e-05 - val_loss: 2.9708e-04 - val_mse: 5.9415e-04\n",
      "Epoch 42/50\n",
      "140/150 [===========================>..] - ETA: 0s - loss: 1.3238e-05 - mse: 2.6476e-05\n",
      "Epoch 42: val_loss did not improve from 0.00021\n",
      "150/150 [==============================] - 0s 3ms/step - loss: 1.4701e-05 - mse: 2.9403e-05 - val_loss: 4.0202e-04 - val_mse: 8.0404e-04\n",
      "Epoch 43/50\n",
      "140/150 [===========================>..] - ETA: 0s - loss: 1.3793e-05 - mse: 2.7585e-05\n",
      "Epoch 43: val_loss did not improve from 0.00021\n",
      "150/150 [==============================] - 0s 3ms/step - loss: 1.5390e-05 - mse: 3.0780e-05 - val_loss: 2.8233e-04 - val_mse: 5.6466e-04\n",
      "Epoch 44/50\n",
      "139/150 [==========================>...] - ETA: 0s - loss: 1.3127e-05 - mse: 2.6255e-05\n",
      "Epoch 44: val_loss did not improve from 0.00021\n",
      "150/150 [==============================] - 0s 3ms/step - loss: 1.4822e-05 - mse: 2.9644e-05 - val_loss: 2.9162e-04 - val_mse: 5.8323e-04\n",
      "Epoch 45/50\n",
      "140/150 [===========================>..] - ETA: 0s - loss: 1.3110e-05 - mse: 2.6219e-05\n",
      "Epoch 45: val_loss did not improve from 0.00021\n",
      "150/150 [==============================] - 0s 3ms/step - loss: 1.3920e-05 - mse: 2.7840e-05 - val_loss: 3.6376e-04 - val_mse: 7.2753e-04\n"
     ]
    }
   ],
   "source": [
    "history = model.fit(train_data, \n",
    "                    validation_data=(test_data), \n",
    "                    epochs=50, \n",
    "                    callbacks=[checkpoint, earlystopping])"
   ]
  },
  {
   "cell_type": "markdown",
   "metadata": {
    "id": "xerCab2YtVJM"
   },
   "source": [
    "저장한 ModelCheckpoint 를 로드합니다."
   ]
  },
  {
   "cell_type": "code",
   "execution_count": 44,
   "metadata": {
    "ExecuteTime": {
     "end_time": "2023-02-24T06:04:15.477502Z",
     "start_time": "2023-02-24T06:04:15.418502Z"
    },
    "id": "RoPIDRSo32f-",
    "outputId": "17ced923-49b4-4f07-fbf3-f956f9f78343"
   },
   "outputs": [
    {
     "data": {
      "text/plain": [
       "<tensorflow.python.checkpoint.checkpoint.CheckpointLoadStatus at 0x295e38f1550>"
      ]
     },
     "execution_count": 44,
     "metadata": {},
     "output_type": "execute_result"
    }
   ],
   "source": [
    "model.load_weights(filename)"
   ]
  },
  {
   "cell_type": "markdown",
   "metadata": {
    "id": "xFQCIO1jtVJM"
   },
   "source": [
    "`test_data`를 활용하여 예측을 진행합니다."
   ]
  },
  {
   "cell_type": "code",
   "execution_count": 45,
   "metadata": {
    "ExecuteTime": {
     "end_time": "2023-02-24T06:04:19.944441Z",
     "start_time": "2023-02-24T06:04:19.588330Z"
    },
    "id": "WxAxSLNL0l8Z"
   },
   "outputs": [
    {
     "name": "stdout",
     "output_type": "stream",
     "text": [
      "37/37 [==============================] - 0s 3ms/step\n"
     ]
    }
   ],
   "source": [
    "pred = model.predict(test_data)"
   ]
  },
  {
   "cell_type": "code",
   "execution_count": 46,
   "metadata": {
    "ExecuteTime": {
     "end_time": "2023-02-24T06:04:20.943194Z",
     "start_time": "2023-02-24T06:04:20.934194Z"
    },
    "colab": {
     "base_uri": "https://localhost:8080/",
     "height": 35
    },
    "id": "yMPXjSQ10l8d",
    "outputId": "c742e25c-fd8c-4c62-ba46-43eac3802a46"
   },
   "outputs": [
    {
     "data": {
      "text/plain": [
       "(1180, 1)"
      ]
     },
     "execution_count": 46,
     "metadata": {},
     "output_type": "execute_result"
    }
   ],
   "source": [
    "pred.shape"
   ]
  },
  {
   "cell_type": "markdown",
   "metadata": {
    "id": "jaWpXnQf6zMt"
   },
   "source": [
    "## 예측 데이터 시각화"
   ]
  },
  {
   "cell_type": "markdown",
   "metadata": {
    "id": "2mQyNRm5tVJM"
   },
   "source": [
    "아래 시각화 코드중 y_test 데이터에 **[20:]**으로 슬라이싱을 한 이유는\n",
    "\n",
    "예측 데이터에서 20일치의 데이터로 21일치를 예측해야하기 때문에 test_data로 예측 시 앞의 20일은 예측하지 않습니다.\n",
    "\n",
    "따라서, 20번 째 index와 비교하면 더욱 정확합니다."
   ]
  },
  {
   "cell_type": "code",
   "execution_count": 47,
   "metadata": {
    "ExecuteTime": {
     "end_time": "2023-02-24T06:06:02.769053Z",
     "start_time": "2023-02-24T06:06:02.661400Z"
    },
    "colab": {
     "base_uri": "https://localhost:8080/",
     "height": 537
    },
    "id": "2F4QQ1O_0l8m",
    "outputId": "42555f80-d80c-4361-b0ed-5651c1097899"
   },
   "outputs": [
    {
     "data": {
      "image/png": "[encoded data removed]",
      "text/plain": [
       "<Figure size 1200x900 with 1 Axes>"
      ]
     },
     "metadata": {},
     "output_type": "display_data"
    }
   ],
   "source": [
    "plt.figure(figsize=(12, 9))\n",
    "plt.plot(np.asarray(y_test)[20:], label='actual')\n",
    "plt.plot(pred, label='prediction')\n",
    "plt.legend()\n",
    "plt.show()"
   ]
  },
  {
   "cell_type": "markdown",
   "metadata": {},
   "source": [
    "# 한계점\n",
    "- 모델이 반영하는 피쳐가 오직 가격 뿐으로 거의 이전날의 가격과 비슷할 것으로 예측하게 되어 예측력이 부족하다.\n",
    "- 더 많은 피쳐들을 반영하여 모델을 학습하거나 주식을 매수/매도 할지 결정하는 식으로 모델을 설계해야 할 것 같다.\n",
    "- 데이터가 stationary 하지 않기 때문에 주가의 변동률을 가지고 모델링을 진행하는 방안도 고려해보자."
   ]
  },
  {
   "cell_type": "code",
   "execution_count": null,
   "metadata": {},
   "outputs": [],
   "source": []
  }
 ],
 "metadata": {
  "accelerator": "GPU",
  "colab": {
   "name": "LSTM을 활용한 삼성전자 주가예측.ipynb",
   "provenance": []
  },
  "kernelspec": {
   "display_name": "Python 3 (ipykernel)",
   "language": "python",
   "name": "python3"
  },
  "language_info": {
   "codemirror_mode": {
    "name": "ipython",
    "version": 3
   },
   "file_extension": ".py",
   "mimetype": "text/x-python",
   "name": "python",
   "nbconvert_exporter": "python",
   "pygments_lexer": "ipython3",
   "version": "3.9.13"
  },
  "toc": {
   "base_numbering": 1,
   "nav_menu": {},
   "number_sections": true,
   "sideBar": true,
   "skip_h1_title": false,
   "title_cell": "Table of Contents",
   "title_sidebar": "Contents",
   "toc_cell": false,
   "toc_position": {},
   "toc_section_display": true,
   "toc_window_display": true
  },
  "varInspector": {
   "cols": {
    "lenName": 16,
    "lenType": 16,
    "lenVar": 40
   },
   "kernels_config": {
    "python": {
     "delete_cmd_postfix": "",
     "delete_cmd_prefix": "del ",
     "library": "var_list.py",
     "varRefreshCmd": "print(var_dic_list())"
    },
    "r": {
     "delete_cmd_postfix": ") ",
     "delete_cmd_prefix": "rm(",
     "library": "var_list.r",
     "varRefreshCmd": "cat(var_dic_list()) "
    }
   },
   "types_to_exclude": [
    "module",
    "function",
    "builtin_function_or_method",
    "instance",
    "_Feature"
   ],
   "window_display": false
  }
 },
 "nbformat": 4,
 "nbformat_minor": 1
}
