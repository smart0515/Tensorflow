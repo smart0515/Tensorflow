{
 "cells": [
  {
   "cell_type": "code",
   "execution_count": 1,
   "id": "e02ef30f",
   "metadata": {
    "ExecuteTime": {
     "end_time": "2023-02-21T01:07:15.211378Z",
     "start_time": "2023-02-21T01:07:12.304775Z"
    },
    "scrolled": true
   },
   "outputs": [
    {
     "name": "stdout",
     "output_type": "stream",
     "text": [
      "[name: \"/device:CPU:0\"\n",
      "device_type: \"CPU\"\n",
      "memory_limit: 268435456\n",
      "locality {\n",
      "}\n",
      "incarnation: 12525663989997124218\n",
      "xla_global_id: -1\n",
      ", name: \"/device:GPU:0\"\n",
      "device_type: \"GPU\"\n",
      "memory_limit: 10075463680\n",
      "locality {\n",
      "  bus_id: 1\n",
      "  links {\n",
      "  }\n",
      "}\n",
      "incarnation: 3963275692851167996\n",
      "physical_device_desc: \"device: 0, name: NVIDIA GeForce RTX 3060, pci bus id: 0000:01:00.0, compute capability: 8.6\"\n",
      "xla_global_id: 416903419\n",
      "]\n"
     ]
    }
   ],
   "source": [
    "## 방법 2-1 : 모든 사용 가능한 GPU List 보기\n",
    "from tensorflow.python.client import device_lib\n",
    "print(device_lib.list_local_devices())"
   ]
  },
  {
   "cell_type": "code",
   "execution_count": 2,
   "id": "3dd3383e",
   "metadata": {
    "ExecuteTime": {
     "end_time": "2023-02-21T01:07:17.943926Z",
     "start_time": "2023-02-21T01:07:17.925983Z"
    }
   },
   "outputs": [
    {
     "name": "stdout",
     "output_type": "stream",
     "text": [
      "WARNING:tensorflow:From C:\\Users\\ebdl\\AppData\\Local\\Temp\\ipykernel_25156\\3326022288.py:2: is_gpu_available (from tensorflow.python.framework.test_util) is deprecated and will be removed in a future version.\n",
      "Instructions for updating:\n",
      "Use `tf.config.list_physical_devices('GPU')` instead.\n"
     ]
    },
    {
     "data": {
      "text/plain": [
       "True"
      ]
     },
     "execution_count": 2,
     "metadata": {},
     "output_type": "execute_result"
    }
   ],
   "source": [
    "import tensorflow as tf\n",
    "tf.test.is_gpu_available()"
   ]
  },
  {
   "cell_type": "code",
   "execution_count": 3,
   "id": "37ed2ff6",
   "metadata": {
    "ExecuteTime": {
     "end_time": "2023-02-21T01:07:23.986678Z",
     "start_time": "2023-02-21T01:07:23.586013Z"
    }
   },
   "outputs": [],
   "source": [
    "from tensorflow import keras\n",
    "from tensorflow.keras import layers\n",
    "import numpy as np\n",
    "import pylab as plt"
   ]
  },
  {
   "cell_type": "code",
   "execution_count": 4,
   "id": "a00bc02a",
   "metadata": {
    "ExecuteTime": {
     "end_time": "2023-02-21T01:07:28.446633Z",
     "start_time": "2023-02-21T01:07:24.789374Z"
    }
   },
   "outputs": [],
   "source": [
    "seq = keras.Sequential(\n",
    "    [\n",
    "        keras.Input(shape=(None, 40, 40, 1)  ),\n",
    "        # (time, rows, cols, channels)\n",
    "        # 이 중, time을 지정하지 가변으로 두고, (None, 40,40,1) shape의 프레임을 입력받습니다.\n",
    "        # 40x40에 1채널을 가지는 프레임입니다.\n",
    "        \n",
    "        layers.ConvLSTM2D(\n",
    "            filters=40, kernel_size=(3, 3), padding=\"same\", return_sequences=True\n",
    "        ),\n",
    "        layers.BatchNormalization(),\n",
    "        \n",
    "      \n",
    "        layers.BatchNormalization(),\n",
    "        layers.Conv3D(\n",
    "            filters=1, kernel_size=(3, 3, 3), activation=\"sigmoid\", padding=\"same\"\n",
    "        ),\n",
    "    ]\n",
    ")\n",
    "seq.compile(loss=\"binary_crossentropy\", optimizer=\"adadelta\")\n",
    " "
   ]
  },
  {
   "cell_type": "code",
   "execution_count": 5,
   "id": "c559ff35",
   "metadata": {
    "ExecuteTime": {
     "end_time": "2023-02-21T01:07:28.491483Z",
     "start_time": "2023-02-21T01:07:28.462580Z"
    }
   },
   "outputs": [
    {
     "name": "stdout",
     "output_type": "stream",
     "text": [
      "Model: \"sequential\"\n",
      "_________________________________________________________________\n",
      " Layer (type)                Output Shape              Param #   \n",
      "=================================================================\n",
      " conv_lstm2d (ConvLSTM2D)    (None, None, 40, 40, 40)  59200     \n",
      "                                                                 \n",
      " batch_normalization (BatchN  (None, None, 40, 40, 40)  160      \n",
      " ormalization)                                                   \n",
      "                                                                 \n",
      " batch_normalization_1 (Batc  (None, None, 40, 40, 40)  160      \n",
      " hNormalization)                                                 \n",
      "                                                                 \n",
      " conv3d (Conv3D)             (None, None, 40, 40, 1)   1081      \n",
      "                                                                 \n",
      "=================================================================\n",
      "Total params: 60,601\n",
      "Trainable params: 60,441\n",
      "Non-trainable params: 160\n",
      "_________________________________________________________________\n"
     ]
    }
   ],
   "source": [
    "seq.summary()"
   ]
  },
  {
   "cell_type": "code",
   "execution_count": 6,
   "id": "4e8335fa",
   "metadata": {
    "ExecuteTime": {
     "end_time": "2023-02-21T01:07:32.549625Z",
     "start_time": "2023-02-21T01:07:32.529186Z"
    }
   },
   "outputs": [],
   "source": [
    "def generate_movies(n_samples=1200, n_frames=15):\n",
    "    row = 80\n",
    "    col = 80\n",
    "    \n",
    "    # 인위적으로 만들 영화가 담길 배열을 선언\n",
    "    # noisy라고 한 이유는 noisy를 추가한 영화를 만들 것이기 때문입니다. \n",
    "    noisy_movies = np.zeros((n_samples, n_frames, row, col, 1), dtype=np.float)\n",
    "    \n",
    "    # 한 프레임 이동한 값(정답값)을 담고 있는 배열입니다.\n",
    "    shifted_movies = np.zeros((n_samples, n_frames, row, col, 1), dtype=np.float)\n",
    "\n",
    "    for i in range(n_samples): # 영화 샘플수만큼 반복\n",
    "\n",
    "        # 랜덤하게 프레임 속 사각형의 개수를 정합니다. 여기서는 3~7개 중 랜덤하게 개수를 정합니다. \n",
    "        n = np.random.randint(3, 8)\n",
    "\n",
    "        for j in range(n): # 사각형 개수만큼 반복\n",
    "\n",
    "            # 초기 위치를 랜덤하게 지정합니다. 그 범위는 x,y축 모두 20이상 60미만 사이입니다.\n",
    "            xstart = np.random.randint(20, 60)\n",
    "            ystart = np.random.randint(20, 60)\n",
    "            \n",
    "            # 이동 방향을 랜덤하게 지정합니다.\n",
    "            # x,y 축 모두를 고려하면 3x3의 총 9가지입니다.\n",
    "            directionx = np.random.randint(0, 3) - 1\n",
    "            directiony = np.random.randint(0, 3) - 1\n",
    "\n",
    "\n",
    "            # 사각형의 크기를 랜덤하게 정합니다. 2 또는 3의 크기\n",
    "            w = np.random.randint(2, 4)\n",
    "\n",
    "            for t in range(n_frames): # 프레임 수 만큼 반복\n",
    "            \t\n",
    "                # 이동후 좌표\n",
    "                x_shift = xstart + directionx * t\n",
    "                y_shift = ystart + directiony * t\n",
    "                \n",
    "                # i번째 샘플의, t번째 프레임에서, 이동 후 좌표를 기준으로 사각형을 채웁니다.\n",
    "                # 맨 마지막 0은, 이 영상의 채널은 1채널이기 때문에 0이라고 한 것입니다.\n",
    "                noisy_movies[\n",
    "                    i, \n",
    "                    t, \n",
    "                    x_shift - w : x_shift + w, \n",
    "                    y_shift - w : y_shift + w, \n",
    "                    0\n",
    "                ] += 1\n",
    "\n",
    "   \n",
    "                # robust한 모델을 만들기 위해 noise를 추가해줍니다.\n",
    "                # 추론 동안에 정확하게 1이 아니더라도 1가 가까운 값이라면\n",
    "                # 여전히 사각형에 속한다고 간주하도록 하기 위함입니다.           \n",
    "  \n",
    "                \n",
    "                # 0과 1중 랜덤하게 고를 때, 만약 1이라면 노이즈를 쥽니다.\n",
    "                if np.random.randint(0, 2):\n",
    "                \t\n",
    "                    # noise_f가 가질 수 있는 값: 1 또는 -1\n",
    "                    noise_f = (-1) ** np.random.randint(0, 2)\n",
    "                    \n",
    "                    # 위에서 추가한 프레임에서,\n",
    "                    # 사각형보다 상,하,좌,우 각각 1씩 더 큰 사각형에 (가로,세로 모두 2씩 증가)\n",
    "                    noisy_movies[\n",
    "                        i,\n",
    "                        t,\n",
    "                        x_shift - w - 1 : x_shift + w + 1,\n",
    "                        y_shift - w - 1 : y_shift + w + 1,\n",
    "                        0,\n",
    "                    ] += (noise_f * 0.1) \n",
    "                    # 결과적으로 0.1 또는 -0.1씩 노이즈를 추가하는 셈입니다.\n",
    "                \n",
    "                \n",
    "                # 정답 값을 담습니다.\n",
    "                # 우리가 만든 이미지에서 한프레임씩 앞으로 간 영상입니다.\n",
    "                # 여기는 노이즈가 추가되지 않습니다.\n",
    "                x_shift = xstart + directionx * (t + 1)\n",
    "                y_shift = ystart + directiony * (t + 1)\n",
    "                shifted_movies[\n",
    "                    i, \n",
    "                    t, \n",
    "                    x_shift - w : x_shift + w, \n",
    "                    y_shift - w : y_shift + w, \n",
    "                    0\n",
    "                ] += 1\n",
    "\n",
    "    # 80x80 영상 중 가운데 40x40범위만 사용합니다.\n",
    "    # 굳이 이렇게 한 이유는 영상을 처음부터 작게 만들면 인덱스 에러가 발생할 가능성이 있기 때문에\n",
    "    # 편의상 크게 만들고, 잘라서 사용하는 것입니다. 특별한 이유는 없습니다.\n",
    "     \n",
    "    noisy_movies = noisy_movies[::, ::, 20:60, 20:60, ::]\n",
    "    shifted_movies = shifted_movies[::, ::, 20:60, 20:60, ::]\n",
    "    \n",
    "    # 아까 노이즈를 0.1를 주면서 실제 값이 1.1로 변한 경우가 있기 때문에\n",
    "    # 1.1을 다시 1로 돌려놓는 것입니다.\n",
    "    \n",
    "    noisy_movies[noisy_movies >= 1] = 1\n",
    "    shifted_movies[shifted_movies >= 1] = 1\n",
    "    return noisy_movies, shifted_movies"
   ]
  },
  {
   "cell_type": "code",
   "execution_count": 7,
   "id": "7ebfd0cf",
   "metadata": {
    "ExecuteTime": {
     "end_time": "2023-02-21T01:07:35.450185Z",
     "start_time": "2023-02-21T01:07:35.339543Z"
    }
   },
   "outputs": [
    {
     "name": "stderr",
     "output_type": "stream",
     "text": [
      "C:\\Users\\ebdl\\AppData\\Local\\Temp\\ipykernel_25156\\1862363226.py:7: DeprecationWarning: `np.float` is a deprecated alias for the builtin `float`. To silence this warning, use `float` by itself. Doing this will not modify any behavior and is safe. If you specifically wanted the numpy scalar type, use `np.float64` here.\n",
      "Deprecated in NumPy 1.20; for more details and guidance: https://numpy.org/devdocs/release/1.20.0-notes.html#deprecations\n",
      "  noisy_movies = np.zeros((n_samples, n_frames, row, col, 1), dtype=np.float)\n",
      "C:\\Users\\ebdl\\AppData\\Local\\Temp\\ipykernel_25156\\1862363226.py:10: DeprecationWarning: `np.float` is a deprecated alias for the builtin `float`. To silence this warning, use `float` by itself. Doing this will not modify any behavior and is safe. If you specifically wanted the numpy scalar type, use `np.float64` here.\n",
      "Deprecated in NumPy 1.20; for more details and guidance: https://numpy.org/devdocs/release/1.20.0-notes.html#deprecations\n",
      "  shifted_movies = np.zeros((n_samples, n_frames, row, col, 1), dtype=np.float)\n"
     ]
    }
   ],
   "source": [
    "noisy_movies, shifted_movies = generate_movies(n_samples=100)\n"
   ]
  },
  {
   "cell_type": "code",
   "execution_count": 8,
   "id": "81fbaa78",
   "metadata": {
    "ExecuteTime": {
     "end_time": "2023-02-21T01:07:41.158422Z",
     "start_time": "2023-02-21T01:07:40.709727Z"
    },
    "scrolled": false
   },
   "outputs": [
    {
     "data": {
      "text/plain": [
       "<matplotlib.image.AxesImage at 0x1945fb3dfd0>"
      ]
     },
     "execution_count": 8,
     "metadata": {},
     "output_type": "execute_result"
    },
    {
     "data": {
      "image/png": "[encoded data removed]",
      "text/plain": [
       "<Figure size 1500x1000 with 15 Axes>"
      ]
     },
     "metadata": {},
     "output_type": "display_data"
    }
   ],
   "source": [
    "# 첫번째 샘플의 프레임 확인\n",
    "plt.figure(figsize=(15,10))\n",
    "plt.subplot(351)\n",
    "plt.imshow(noisy_movies[0,:,:,0])\n",
    "plt.subplot(352)\n",
    "plt.imshow(noisy_movies[0,:,:,1])\n",
    "plt.subplot(353)\n",
    "plt.imshow(noisy_movies[0,:,:,2])\n",
    "plt.subplot(354)\n",
    "plt.imshow(noisy_movies[0,:,:,3])\n",
    "plt.subplot(355)\n",
    "plt.imshow(noisy_movies[0,:,:,4])\n",
    "plt.subplot(356)\n",
    "plt.imshow(noisy_movies[0,:,:,5])\n",
    "plt.subplot(357)\n",
    "plt.imshow(noisy_movies[0,:,:,6])\n",
    "plt.subplot(358)\n",
    "plt.imshow(noisy_movies[0,:,:,7])\n",
    "plt.subplot(359)\n",
    "plt.imshow(noisy_movies[0,:,:,8])\n",
    "plt.subplot(3,5,10)\n",
    "plt.imshow(noisy_movies[0,:,:,9])\n",
    "plt.subplot(3,5,11)\n",
    "plt.imshow(noisy_movies[0,:,:,10])\n",
    "plt.subplot(3,5,12)\n",
    "plt.imshow(noisy_movies[0,:,:,11])\n",
    "plt.subplot(3,5,13)\n",
    "plt.imshow(noisy_movies[0,:,:,12])\n",
    "plt.subplot(3,5,14)\n",
    "plt.imshow(noisy_movies[0,:,:,13])\n",
    "plt.subplot(3,5,15)\n",
    "plt.imshow(noisy_movies[0,:,:,14])"
   ]
  },
  {
   "cell_type": "code",
   "execution_count": 9,
   "id": "65c688b4",
   "metadata": {
    "ExecuteTime": {
     "end_time": "2023-02-21T01:07:42.025616Z",
     "start_time": "2023-02-21T01:07:41.611703Z"
    }
   },
   "outputs": [
    {
     "data": {
      "text/plain": [
       "<matplotlib.image.AxesImage at 0x1945fedf5b0>"
      ]
     },
     "execution_count": 9,
     "metadata": {},
     "output_type": "execute_result"
    },
    {
     "data": {
      "image/png": "[encoded data removed]",
      "text/plain": [
       "<Figure size 1500x1000 with 15 Axes>"
      ]
     },
     "metadata": {},
     "output_type": "display_data"
    }
   ],
   "source": [
    "# 첫번째 샘플의 프레임 확인\n",
    "plt.figure(figsize=(15,10))\n",
    "plt.subplot(351)\n",
    "plt.imshow(shifted_movies[0,:,:,0])\n",
    "plt.subplot(352)\n",
    "plt.imshow(shifted_movies[0,:,:,1])\n",
    "plt.subplot(353)\n",
    "plt.imshow(shifted_movies[0,:,:,2])\n",
    "plt.subplot(354)\n",
    "plt.imshow(shifted_movies[0,:,:,3])\n",
    "plt.subplot(355)\n",
    "plt.imshow(shifted_movies[0,:,:,4])\n",
    "plt.subplot(356)\n",
    "plt.imshow(shifted_movies[0,:,:,5])\n",
    "plt.subplot(357)\n",
    "plt.imshow(shifted_movies[0,:,:,6])\n",
    "plt.subplot(358)\n",
    "plt.imshow(shifted_movies[0,:,:,7])\n",
    "plt.subplot(359)\n",
    "plt.imshow(shifted_movies[0,:,:,8])\n",
    "plt.subplot(3,5,10)\n",
    "plt.imshow(shifted_movies[0,:,:,9])\n",
    "plt.subplot(3,5,11)\n",
    "plt.imshow(shifted_movies[0,:,:,10])\n",
    "plt.subplot(3,5,12)\n",
    "plt.imshow(shifted_movies[0,:,:,11])\n",
    "plt.subplot(3,5,13)\n",
    "plt.imshow(shifted_movies[0,:,:,12])\n",
    "plt.subplot(3,5,14)\n",
    "plt.imshow(shifted_movies[0,:,:,13])\n",
    "plt.subplot(3,5,15)\n",
    "plt.imshow(shifted_movies[0,:,:,14])"
   ]
  },
  {
   "cell_type": "code",
   "execution_count": 10,
   "id": "55102e9c",
   "metadata": {
    "ExecuteTime": {
     "end_time": "2023-02-21T01:08:01.701186Z",
     "start_time": "2023-02-21T01:07:42.967603Z"
    }
   },
   "outputs": [
    {
     "data": {
      "text/plain": [
       "<keras.callbacks.History at 0x19460066c10>"
      ]
     },
     "execution_count": 10,
     "metadata": {},
     "output_type": "execute_result"
    }
   ],
   "source": [
    "seq.fit(\n",
    "    noisy_movies[:100],\n",
    "    shifted_movies[:100],\n",
    "    batch_size=2,\n",
    "    epochs=1,\n",
    "    verbose=0,\n",
    "    validation_split=0.1,\n",
    ")"
   ]
  },
  {
   "cell_type": "code",
   "execution_count": 12,
   "id": "2006fc28",
   "metadata": {
    "ExecuteTime": {
     "end_time": "2023-02-21T01:08:20.705361Z",
     "start_time": "2023-02-21T01:08:14.537575Z"
    }
   },
   "outputs": [
    {
     "name": "stdout",
     "output_type": "stream",
     "text": [
      "1/1 [==============================] - 0s 168ms/step\n",
      "1/1 [==============================] - 0s 129ms/step\n",
      "1/1 [==============================] - 0s 22ms/step\n",
      "1/1 [==============================] - 0s 25ms/step\n",
      "1/1 [==============================] - 0s 24ms/step\n",
      "1/1 [==============================] - 0s 25ms/step\n",
      "1/1 [==============================] - 0s 27ms/step\n",
      "1/1 [==============================] - 0s 27ms/step\n",
      "1/1 [==============================] - 0s 28ms/step\n",
      "1/1 [==============================] - 0s 29ms/step\n",
      "1/1 [==============================] - 0s 30ms/step\n",
      "1/1 [==============================] - 0s 31ms/step\n",
      "1/1 [==============================] - 0s 33ms/step\n",
      "1/1 [==============================] - 0s 32ms/step\n",
      "1/1 [==============================] - 0s 33ms/step\n",
      "1/1 [==============================] - 0s 37ms/step\n"
     ]
    }
   ],
   "source": [
    "movie_index = 84\n",
    "test_movie = noisy_movies[movie_index]\n",
    "\n",
    "# 1004번째 영상의 프레임 중 앞의 7개의 프레임을 test set으로 선정합니다.\n",
    "track = test_movie[:7, ::, ::, ::]\n",
    "\n",
    "# Predict 16 frames\n",
    "# 앞으로의 16개의 프레임을 예측해 봅시다.\n",
    "for j in range(16):\n",
    "\n",
    "    # 모델의 input shape에 맞추기 위해 np.newaxis를 붙여줬습니다.\n",
    "    # 영상 축을 추가한 것입니다.\n",
    "    # (프레임, 세로, 가로, 채널)에서 (영상, 프레임, 세로, 가로, 채널)로 바꿔주었습니다.\n",
    "    new_pos = seq.predict(track[np.newaxis, ::, ::, ::, ::])\n",
    "    \n",
    "    # test set에서 마지막 프레임에 추가하기 위해서 -1을 적어줬습니다.\n",
    "    new = new_pos[::, -1, ::, ::, ::]\n",
    "    track = np.concatenate((track, new), axis=0)\n",
    "    \n",
    "    # 처음에는 7프레임으로 예측했고,\n",
    "    # 그 다음은 예측한 프레임을 더한 8프레임으로 예측하고,\n",
    "    # 16번의 프레임이 더해질 때까지 반복합니다."
   ]
  },
  {
   "cell_type": "code",
   "execution_count": 35,
   "id": "7e940798",
   "metadata": {
    "ExecuteTime": {
     "end_time": "2023-02-21T05:35:12.660014Z",
     "start_time": "2023-02-21T05:35:12.569318Z"
    }
   },
   "outputs": [
    {
     "data": {
      "text/plain": [
       "<matplotlib.image.AxesImage at 0x19501572dc0>"
      ]
     },
     "execution_count": 35,
     "metadata": {},
     "output_type": "execute_result"
    },
    {
     "data": {
      "image/png": "[encoded data removed]",
      "text/plain": [
       "<Figure size 640x480 with 1 Axes>"
      ]
     },
     "metadata": {},
     "output_type": "display_data"
    }
   ],
   "source": [
    "plt.imshow(track[15,:,:])"
   ]
  }
 ],
 "metadata": {
  "kernelspec": {
   "display_name": "Python 3 (ipykernel)",
   "language": "python",
   "name": "python3"
  },
  "language_info": {
   "codemirror_mode": {
    "name": "ipython",
    "version": 3
   },
   "file_extension": ".py",
   "mimetype": "text/x-python",
   "name": "python",
   "nbconvert_exporter": "python",
   "pygments_lexer": "ipython3",
   "version": "3.9.13"
  },
  "toc": {
   "base_numbering": 1,
   "nav_menu": {},
   "number_sections": true,
   "sideBar": true,
   "skip_h1_title": false,
   "title_cell": "Table of Contents",
   "title_sidebar": "Contents",
   "toc_cell": false,
   "toc_position": {},
   "toc_section_display": true,
   "toc_window_display": false
  },
  "varInspector": {
   "cols": {
    "lenName": 16,
    "lenType": 16,
    "lenVar": 40
   },
   "kernels_config": {
    "python": {
     "delete_cmd_postfix": "",
     "delete_cmd_prefix": "del ",
     "library": "var_list.py",
     "varRefreshCmd": "print(var_dic_list())"
    },
    "r": {
     "delete_cmd_postfix": ") ",
     "delete_cmd_prefix": "rm(",
     "library": "var_list.r",
     "varRefreshCmd": "cat(var_dic_list()) "
    }
   },
   "oldHeight": 379.844,
   "position": {
    "height": "401.844px",
    "left": "1391px",
    "right": "20px",
    "top": "184px",
    "width": "500px"
   },
   "types_to_exclude": [
    "module",
    "function",
    "builtin_function_or_method",
    "instance",
    "_Feature"
   ],
   "varInspector_section_display": "block",
   "window_display": false
  }
 },
 "nbformat": 4,
 "nbformat_minor": 5
}
